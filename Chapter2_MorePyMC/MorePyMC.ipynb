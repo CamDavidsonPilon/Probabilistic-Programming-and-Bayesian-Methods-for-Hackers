{
 "metadata": {
  "name": "MorePyMC"
 },
 "nbformat": 3,
 "nbformat_minor": 0,
 "worksheets": [
  {
   "cells": [
    {
     "cell_type": "markdown",
     "metadata": {},
     "source": [
      "Chapter 2\n",
      "======\n",
      "______\n",
      "\n",
      "This chapter introduces more PyMC syntax and design patterns, and ways to think about how to model a system from a Bayesian perspective. It also contains tips and data visualization techniques for assessing goodness-of-fit for your Bayesian model."
     ]
    },
    {
     "cell_type": "markdown",
     "metadata": {},
     "source": [
      "## A little more on PyMC\n",
      "\n",
      "### Parent and Child relationships\n",
      "\n",
      "To assist with describing Bayesian relationships, and to be consistent with PyMC's documentation, we introduce *parent and child* variables. \n",
      "\n",
      "*  *parent variables* are variables that influence another variable. \n",
      "\n",
      "*  *child variable* are variables that are affected by other variables, i.e. are the subject of parent variables. \n",
      "\n",
      "A variable can be both a parent and child. For example, consider the PyMC code below."
     ]
    },
    {
     "cell_type": "code",
     "collapsed": false,
     "input": [
      "import pymc as mc\n",
      "\n",
      "\n",
      "parameter = mc.Exponential(\"poisson_param\", 1)\n",
      "data_generator = mc.Poisson(\"data_generator\", parameter)\n",
      "data_plus_one = data_generator + 1"
     ],
     "language": "python",
     "metadata": {},
     "outputs": [],
     "prompt_number": 62
    },
    {
     "cell_type": "markdown",
     "metadata": {},
     "source": [
      "`parameter` controls the parameter of `data_generator`, hence influences its values. The former is a parent of the latter. By symmetry, `data_generator` is a child of `parameter`.\n",
      "\n",
      "Likewise, `data_generator` is a parent to the variable `data_plus_one` (hence making `data_generator` both a parent and child variable). Although it does not look like one, `data_plus_one` should be treated as a PyMC variable as it is a *function* of another PyMC variable, hence is a child variable to `data_generator`.\n",
      "\n",
      "This nomenclature is introduced to help us describe relationships in PyMC modeling. You can access a variables children and parent variables using the `children` and `parents` attributes attached to variables."
     ]
    },
    {
     "cell_type": "code",
     "collapsed": false,
     "input": [
      "print \"Children of `parameter`: \"\n",
      "print parameter.children\n",
      "print \"\\nParents of `data_generator`: \"\n",
      "print data_generator.parents\n",
      "print \"\\nChildren of `data_generator`: \"\n",
      "print data_generator.children"
     ],
     "language": "python",
     "metadata": {},
     "outputs": [
      {
       "output_type": "stream",
       "stream": "stdout",
       "text": [
        "Children of `parameter`: \n",
        "set([<pymc.distributions.Poisson 'data_generator' at 0x458d750>])\n",
        "\n",
        "Parents of `data_generator`: \n",
        "{'mu': <pymc.distributions.Exponential 'poisson_param' at 0x43f6150>}\n",
        "\n",
        "Children of `data_generator`: \n",
        "set([<pymc.PyMCObjects.Deterministic '(data_generator_add_1)' at 0x442a5d0>])\n"
       ]
      }
     ],
     "prompt_number": 63
    },
    {
     "cell_type": "markdown",
     "metadata": {},
     "source": [
      "Of course a child can  have more than one parent, and a parent can have many children."
     ]
    },
    {
     "cell_type": "markdown",
     "metadata": {},
     "source": [
      "### PyMC Variables\n",
      "\n",
      "All PyMC variables also expose a `value` attribute. This method produces the *current* (possibly random) internal value of the variable. If the variable is a child variable, its value changes given the variable's parents' values. Using the same variables from before:"
     ]
    },
    {
     "cell_type": "code",
     "collapsed": false,
     "input": [
      "print \"parameter.value =\", parameter.value\n",
      "print \"data_generator.value =\", data_generator.value\n",
      "print \"data_plus_one.value =\", data_plus_one.value"
     ],
     "language": "python",
     "metadata": {},
     "outputs": [
      {
       "output_type": "stream",
       "stream": "stdout",
       "text": [
        "parameter.value = 0.0534927837795\n",
        "data_generator.value = 0\n",
        "data_plus_one.value = 1\n"
       ]
      }
     ],
     "prompt_number": 64
    },
    {
     "cell_type": "markdown",
     "metadata": {},
     "source": [
      "PyMC is concerned with two types of programming variables: `stochastic` and `deterministic`.\n",
      "\n",
      "*  *stochastic variables* are variables that are not deterministic, i.e., even if you knew all the values of the variables' parents (if it even has any parents), it would still be random. Included in this category are instances of classes `Poisson`, `DiscreteUniform`, and `Exponential`.\n",
      "\n",
      "*  *deterministic variables* are variables that are not random if the variables' parents were known. This might be confusing at first: a quick mental check is *if I knew all of variable `foo`'s parent variables, I could determine what `foo`'s value is.* \n",
      "\n",
      "We will detail each below.\n",
      "\n",
      "#### Initializing Stochastic variables\n",
      "\n",
      "Initializing a stochastic variable requires a `name` argument, plus additional parameters that are class specific. For example:\n",
      "\n",
      "`some_variable = mc.DiscreteUniform( \"discrete_uni_var\", 0, 4 )`\n",
      "\n",
      "where 0,4 are the `DiscreteUniform`-specific upper and lower bound on the random variable. The [PyMC docs](http://pymc-devs.github.com/pymc/distributions.html) contain the specific parameters for stochastic variables. (Or use `??` if you are using IPython!)\n",
      "\n",
      "The `name` attribute is used to retrieve the posterior distribution later in the analysis, so it is best to use a descriptive name. Typically, I use the Python variable's name as the name.\n",
      "\n",
      "For multivariable problems, rather than creating a Python array of stochastic variables, addressing the `size` keyword in the call to a `Stochastic` variable creates multivariate array of (independent) stochastic variables. The array behaves like a Numpy array when used like one, and references to its `value` attribute return Numpy arrays.  \n",
      "\n",
      "The `size` argument also solves the annoying case where you may have many variables $\\beta_i, \\; i = 1,...,N$ you wish to model. Instead of creating arbitrary names and variables for each one, like:\n",
      "\n",
      "    beta_1 = mc.Uniform( \"beta_1\", 0, 1)\n",
      "    beta_2 = mc.Uniform( \"beta_2\", 0, 1)\n",
      "    ...\n",
      "\n",
      "we can instead wrap them into a single variable:\n",
      "\n",
      "    betas = mc.Uniform( \"betas\", 0, 1, size = N )\n",
      "\n",
      "#### Calling `random()`\n",
      "We can also call on a stochastic variable's `random()` method, which (given the parent values) will generate a new, random value. Below we demonstrate this using the texting example from the previous chapter."
     ]
    },
    {
     "cell_type": "code",
     "collapsed": false,
     "input": [
      "lambda_1 = mc.Exponential(\"lambda_1\", 1)  # prior on first behaviour\n",
      "lambda_2 = mc.Exponential(\"lambda_2\", 1)  # prior on second behaviour\n",
      "tau = mc.DiscreteUniform(\"tau\", lower=0, upper=10)  # prior on behaviour change\n",
      "\n",
      "print \"lambda_1.value = %.3f\" % lambda_1.value\n",
      "print \"lambda_2.value = %.3f\" % lambda_2.value\n",
      "print \"tau.value = %.3f\" % tau.value\n",
      "print\n",
      "\n",
      "lambda_1.random(), lambda_2.random(), tau.random()\n",
      "\n",
      "print \"After calling random() on the variables...\"\n",
      "print \"lambda_1.value = %.3f\" % lambda_1.value\n",
      "print \"lambda_2.value = %.3f\" % lambda_2.value\n",
      "print \"tau.value = %.3f\" % tau.value"
     ],
     "language": "python",
     "metadata": {},
     "outputs": [
      {
       "output_type": "stream",
       "stream": "stdout",
       "text": [
        "lambda_1.value = 1.670\n",
        "lambda_2.value = 1.235\n",
        "tau.value = 3.000\n",
        "\n",
        "After calling random() on the variables...\n",
        "lambda_1.value = 0.754\n",
        "lambda_2.value = 3.478\n",
        "tau.value = 10.000\n"
       ]
      }
     ],
     "prompt_number": 65
    },
    {
     "cell_type": "markdown",
     "metadata": {},
     "source": [
      "The call to `random` stores a new value into the variable's `value` attribute. In fact, this new value is stored in the computer's cache for faster recall and efficiency."
     ]
    },
    {
     "cell_type": "markdown",
     "metadata": {},
     "source": [
      "### **Warning**: *Don't update stochastic variables' values in-place.*\n",
      "\n",
      "\n",
      "Straight from the PyMC docs, we quote [4]:\n",
      "\n",
      "> `Stochastic` objects' values should not be updated in-place. This confuses PyMC's caching scheme... The only way a stochastic variable's value should be updated is using statements of the following form:\n",
      "\n",
      "        A.value = new_value\n",
      "\n",
      "> The following are in-place updates and should **never** be used:\n",
      "\n",
      "    \n",
      "        A.value += 3\n",
      "        A.value[2,1] = 5\n",
      "        A.value.attribute = new_attribute_value\n",
      "    "
     ]
    },
    {
     "cell_type": "markdown",
     "metadata": {},
     "source": [
      "#### Deterministic variables\n",
      "\n",
      "Since most variables you will be modeling are stochastic, we distinguish deterministic variables with a `pymc.deterministic` wrapper. (If you are unfamiliar with Python wrappers (also called decorators), that's no problem. Just prepend the `pymc.deterministic` decorator before the variable declaration and you're good to go. No need to know more. ) The declaration of a deterministic variable uses a Python function:\n",
      "\n",
      "    @mc.deterministic\n",
      "    def some_deterministic_var(v1=v1,):\n",
      "         #jelly goes here.\n",
      "\n",
      "For all purposes, we can treat the object `some_deterministic_var` as a variable and not a Python function. \n",
      "\n",
      "Prepending with the wrapper is the easiest way, but not the only way, to create deterministic variables. This is not completely true: elementary operations, like addition, exponentials etc. implicitly create deterministic variables. For example, the following returns a deterministic variable:"
     ]
    },
    {
     "cell_type": "code",
     "collapsed": false,
     "input": [
      "type(lambda_1 + lambda_2)"
     ],
     "language": "python",
     "metadata": {},
     "outputs": [
      {
       "output_type": "pyout",
       "prompt_number": 66,
       "text": [
        "pymc.PyMCObjects.Deterministic"
       ]
      }
     ],
     "prompt_number": 66
    },
    {
     "cell_type": "markdown",
     "metadata": {},
     "source": [
      "The use of the `deterministic` wrapper was seen in the previous chapter's text-message example.  Recall the model for $\\lambda$ looked like: \n",
      "\n",
      "$$\n",
      "\\lambda = \n",
      "\\cases{\n",
      "\\lambda_1  & \\text{if } t \\lt \\tau \\cr\n",
      "\\lambda_2 & \\text{if } t \\ge \\tau\n",
      "}\n",
      "$$\n",
      "\n",
      "And in PyMC code:"
     ]
    },
    {
     "cell_type": "code",
     "collapsed": false,
     "input": [
      "n_data_points = 5  # in CH1 we had ~70 data points\n",
      "\n",
      "\n",
      "@mc.deterministic\n",
      "def lambda_(tau=tau, lambda_1=lambda_1, lambda_2=lambda_2):\n",
      "    out = np.zeros(n_data_points)\n",
      "    out[:tau] = lambda_1  # lambda before tau is lambda1\n",
      "    out[tau:] = lambda_2  # lambda after tau is lambda1\n",
      "    return out"
     ],
     "language": "python",
     "metadata": {},
     "outputs": [],
     "prompt_number": 67
    },
    {
     "cell_type": "markdown",
     "metadata": {},
     "source": [
      "Clearly, if $\\tau, \\lambda_1$ and $\\lambda_2$ are known, then $\\lambda$ is known completely, hence it is a deterministic variable. \n",
      "\n",
      "Inside the deterministic decorator, the `Stochastic` variables passed in behave like scalars or Numpy arrays ( if multivariable), and *not* like `Stochastic` variables. For example, running the following:\n",
      "\n",
      "    @mc.deterministic\n",
      "    def some_deterministic( stoch = some_stochastic_var ):\n",
      "        return stoch.value**2\n",
      "\n",
      "\n",
      "will return an `AttributeError` detailing that `stoch` does not have a `value` attribute. It simply needs to be `stoch**2`. During the learning phase, it's the variable's `value` that is repeatedly passed in, not the actual variable.  \n",
      "\n",
      "Notice in the creation of the deterministic function we added defaults to each variable used in the function. This is a necessary step, and all variables *must* have default values. "
     ]
    },
    {
     "cell_type": "markdown",
     "metadata": {},
     "source": [
      "### Including observations in the Model\n",
      "\n",
      "At this point, it may not look like it, but we have fully specified our priors. For example, we can ask and answer questions like \"What does my prior distribution of $\\lambda_1$ look like?\" "
     ]
    },
    {
     "cell_type": "code",
     "collapsed": false,
     "input": [
      "%pylab inline\n",
      "figsize(12.5, 4)\n",
      "\n",
      "samples = [lambda_1.random() for i in range(20000)]\n",
      "hist(samples, bins=70, normed=True, histtype=\"stepfilled\")\n",
      "plt.title(\"Prior distribution for $\\lambda_1$\")\n",
      "plt.xlim(0, 8)"
     ],
     "language": "python",
     "metadata": {},
     "outputs": [
      {
       "output_type": "stream",
       "stream": "stdout",
       "text": [
        "\n",
        "Welcome to pylab, a matplotlib-based Python environment [backend: module://IPython.zmq.pylab.backend_inline].\n",
        "For more information, type 'help(pylab)'.\n"
       ]
      },
      {
       "output_type": "pyout",
       "prompt_number": 68,
       "text": [
        "(0, 8)"
       ]
      },
      {
       "output_type": "display_data",
       "png": "[encoded data removed]"
      }
     ],
     "prompt_number": 68
    },
    {
     "cell_type": "markdown",
     "metadata": {},
     "source": [
      "To frame this in the notation of the first chapter, though this is a slight abuse of notation, we have specified $P(A)$. Our next goal is to include data/evidence/observations $X$ into our model. \n",
      "\n",
      "PyMC stochastic variables have a keyword argument `observed` which accepts a boolean (`False` by default). The keyword `observed` has a very simple role: fix the variable's current value, i.e. make `value` immutable. We have to specify an initial `value` in the variable's creation, equal to the observations we wish to include, typically an array (and it should be an Numpy array for speed). For example:"
     ]
    },
    {
     "cell_type": "code",
     "collapsed": false,
     "input": [
      "data = np.array([10, 5])\n",
      "fixed_variable = mc.Poisson(\"fxd\", 1, value=data, observed=True)\n",
      "print \"value: \", fixed_variable.value\n",
      "print \"calling .random()\"\n",
      "fixed_variable.random()\n",
      "print \"value: \", fixed_variable.value"
     ],
     "language": "python",
     "metadata": {},
     "outputs": [
      {
       "output_type": "stream",
       "stream": "stdout",
       "text": [
        "value:  [10  5]\n",
        "calling .random()\n",
        "value:  [10  5]\n"
       ]
      }
     ],
     "prompt_number": 69
    },
    {
     "cell_type": "markdown",
     "metadata": {},
     "source": [
      "This is how we include data into our models: initializing a stochastic variable to have a *fixed value*. \n",
      "\n",
      "To complete our text message example, we fix the PyMC variable `observations` to the observed dataset. "
     ]
    },
    {
     "cell_type": "code",
     "collapsed": false,
     "input": [
      "#we're using some fake data here\n",
      "data = np.array([10, 25, 15, 20, 35])\n",
      "obs = mc.Poisson(\"obs\", lambda_, value=data, observed=True)\n",
      "print obs.value"
     ],
     "language": "python",
     "metadata": {},
     "outputs": [
      {
       "output_type": "stream",
       "stream": "stdout",
       "text": [
        "[10 25 15 20 35]\n"
       ]
      }
     ],
     "prompt_number": 70
    },
    {
     "cell_type": "markdown",
     "metadata": {},
     "source": [
      "### Finally...\n",
      "\n",
      "We wrap all the created variables into a `mc.Model` class. With this `Model` class, we can analyze the variables as a single unit. This is an optional step, as the fitting algorithms can be sent an array of the variables rather than a `Model` class. I may or may not use this class in future examples ;)"
     ]
    },
    {
     "cell_type": "code",
     "collapsed": false,
     "input": [
      "model = mc.Model([obs, lambda_, lambda_1, lambda_2, tau])"
     ],
     "language": "python",
     "metadata": {},
     "outputs": [],
     "prompt_number": 71
    },
    {
     "cell_type": "markdown",
     "metadata": {},
     "source": [
      "## Modeling approaches\n",
      "\n",
      "A good starting thought to Bayesian modeling is to think about *how your data might have been generated*. Position yourself in an omniscient position, and try to imagine how *you* would recreate the dataset. \n",
      "\n",
      "In the last chapter we investigated text message data. We begin by asking how our observations may have been generated:\n",
      "\n",
      "1.  We started by thinking \"what is the best random variable to describe this count data?\" A Poisson random variable is a good candidate because it can represent count data. So we model the number of sms's received as sampled from a Poisson distribution.\n",
      "\n",
      "2.  Next, we think, \"Ok, assuming sms's are Poisson-distributed, what do I need for the Poisson distribution?\" Well, the Poisson distribution has a parameters $\\lambda$. \n",
      "\n",
      "3.  Do we know $\\lambda$? No. In fact, we have a suspicion that there are *two* $\\lambda$ values, one for the earlier behaviour and one for the latter behaviour. We don't know when the behaviour switches though, but call the switchpoint $\\tau$.\n",
      "\n",
      "4. What is a good distribution for the two $\\lambda$s? The exponential is good, as it assigns probabilities to positive real numbers. Well the exponential distribution has a parameter too, call it $\\alpha$.\n",
      "\n",
      "5.  Do we know what the parameter $\\alpha$ might be? No. At this point, we could continue and assign a distribution to $\\alpha$, but it's better to stop once we reach a set level of ignorance: whereas we have a prior belief about $\\lambda$, (\"it probably changes over time\", \"it's likely between 10 and 30\", etc.), we don't really have any strong beliefs about $\\alpha$. So it's best to stop here. \n",
      "\n",
      "    What is a good value for $\\alpha$ then? We think that the $\\lambda$s are between 10-30, so if we set $\\alpha$ really low (which corresponds to larger probability on high values) we are not reflecting our prior well. Similar, a too-high alpha misses our prior belief as well. A good idea for $\\alpha$ as to reflect our belief is to set the value so that the mean of $\\lambda$, given $\\alpha$, is equal to our observed mean. This was shown in the last chapter.\n",
      "\n",
      "6. We have no expert opinion of when $\\tau$ might have occurred. So we will suppose $\\tau$ is from a discrete uniform distribution over the entire timespan.\n",
      "\n",
      "\n",
      "Below we give a graphical visualization of this, where arrows denote `parent-child` relationships. (provided by the [Daft Python library](http://daft-pgm.org/) )\n",
      "\n",
      "<img src=\"http://i.imgur.com/7J30oCG.png\" width = 700/>\n",
      "\n",
      "\n",
      "PyMC, and other probabilistic programming languages, have been designed to tell these data-generation *stories*. More generally, B. Cronin writes [5]:\n",
      "\n",
      "> Probabilistic programming will unlock narrative explanations of data, one of the holy grails of business analytics and the unsung hero of scientific persuasion. People think in terms of stories - thus the unreasonable power of the anecdote to drive decision-making, well-founded or not. But existing analytics largely fails to provide this kind of story; instead, numbers seemingly appear out of thin air, with little of the causal context that humans prefer when weighing their options."
     ]
    },
    {
     "cell_type": "markdown",
     "metadata": {},
     "source": [
      "### Same story; different ending.\n",
      "\n",
      "Interestingly, we can create *new datasets* by retelling the story.\n",
      "For example, if we reverse the above steps, we can simulate a possible realization of the dataset.\n",
      "\n",
      "1\\. Specify when the user's behaviour switches by sampling from $\\text{DiscreteUniform}(0, 80)$:"
     ]
    },
    {
     "cell_type": "code",
     "collapsed": false,
     "input": [
      "tau = mc.rdiscrete_uniform(0, 80)\n",
      "print tau"
     ],
     "language": "python",
     "metadata": {},
     "outputs": [
      {
       "output_type": "stream",
       "stream": "stdout",
       "text": [
        "25\n"
       ]
      }
     ],
     "prompt_number": 72
    },
    {
     "cell_type": "markdown",
     "metadata": {},
     "source": [
      "2\\. Draw $\\lambda_1$ and $\\lambda_2$ from an $\\text{Exp}(\\alpha)$ distribution:"
     ]
    },
    {
     "cell_type": "code",
     "collapsed": false,
     "input": [
      "alpha = 1./20.\n",
      "lambda_1, lambda_2 = mc.rexponential(alpha, 2)\n",
      "print lambda_1, lambda_2"
     ],
     "language": "python",
     "metadata": {},
     "outputs": [
      {
       "output_type": "stream",
       "stream": "stdout",
       "text": [
        "57.8911048197 30.7672520011\n"
       ]
      }
     ],
     "prompt_number": 73
    },
    {
     "cell_type": "markdown",
     "metadata": {},
     "source": [
      "3\\.  For days before $\\tau$, represent the user's received SMS count by sampling from $\\text{Poi}(\\lambda_1)$, and sample from  $\\text{Poi}(\\lambda_2)$ for days after $\\tau$. For example:"
     ]
    },
    {
     "cell_type": "code",
     "collapsed": false,
     "input": [
      "data = np.r_[mc.rpoisson(lambda_1, tau), mc.rpoisson(lambda_2, 80 - tau)]"
     ],
     "language": "python",
     "metadata": {},
     "outputs": [],
     "prompt_number": 74
    },
    {
     "cell_type": "markdown",
     "metadata": {},
     "source": [
      "4\\. Plot the artificial dataset:"
     ]
    },
    {
     "cell_type": "code",
     "collapsed": false,
     "input": [
      "plt.bar(np.arange(80), data, color=\"#348ABD\")\n",
      "plt.bar(tau-1, data[tau - 1], color=\"r\", label=\"user behaviour changed\")\n",
      "plt.xlabel(\"Time (days)\")\n",
      "plt.ylabel(\"count of text-msgs received\")\n",
      "plt.title(\"Artificial dataset\")\n",
      "plt.xlim(0, 80)\n",
      "plt.legend()"
     ],
     "language": "python",
     "metadata": {},
     "outputs": [
      {
       "output_type": "pyout",
       "prompt_number": 75,
       "text": [
        "<matplotlib.legend.Legend at 0x3c83d50>"
       ]
      },
      {
       "output_type": "display_data",
       "png": "[encoded data removed]"
      }
     ],
     "prompt_number": 75
    },
    {
     "cell_type": "markdown",
     "metadata": {},
     "source": [
      "It is okay that our fictional dataset does not look like our observed dataset: the probability is incredibly small it indeed would. PyMC's engine is designed to find good parameters, $\\lambda_i, \\tau$, that maximize this probability.  \n",
      "\n",
      "\n",
      "The ability to generate artificial dataset is an interesting side effect of our modeling, and we will see that this ability is a very important method of Bayesian inference. We produce a few more datasets below:"
     ]
    },
    {
     "cell_type": "code",
     "collapsed": false,
     "input": [
      "def plot_artificial_sms_dataset():\n",
      "    tau = mc.rdiscrete_uniform(0, 80)\n",
      "    alpha = 1./20.\n",
      "    lambda_1, lambda_2 = mc.rexponential(alpha, 2)\n",
      "    data = np.r_[mc.rpoisson(lambda_1, tau), mc.rpoisson(lambda_2, 80 - tau)]\n",
      "    plt.bar(np.arange(80), data, color=\"#348ABD\")\n",
      "    plt.bar(tau - 1, data[tau-1], color=\"r\", label=\"user behaviour changed\")\n",
      "    plt.xlim(0, 80)\n",
      "\n",
      "figsize(12.5, 5)\n",
      "plt.title(\"More example of artificial datasets\")\n",
      "for i in range(4):\n",
      "    plt.subplot(4, 1, i)\n",
      "    plot_artificial_sms_dataset()\n"
     ],
     "language": "python",
     "metadata": {},
     "outputs": [
      {
       "output_type": "display_data",
       "png": "[encoded data removed]"
      }
     ],
     "prompt_number": 76
    },
    {
     "cell_type": "markdown",
     "metadata": {},
     "source": [
      "Later we will see how we use this to make predictions and test the appropriateness of our models."
     ]
    },
    {
     "cell_type": "markdown",
     "metadata": {},
     "source": [
      "#####Example: Bayesian A/B testing\n",
      "\n",
      "A/B testing is a statistical design pattern for determining the difference of effectiveness between two different treatments. For example, a pharmaceutical company is interested in the effectiveness of drug A vs drug B. The company will test drug A on some fraction of their trials, and drug B on the other fraction (this fraction is often 1/2, but we will relax this assumption). After performing enough trials, the in-house statisticians sift through the data to determine which drug yielded better results. \n",
      "\n",
      "Similarly, front-end web developers are interested in which design of their website yields more sales or some other metric of interest. They will route some fraction of visitors to site A, and the other fraction to site B, and record if the visit yielded a sale of not. The data is recorded (in real-time), and analyzed afterwards. \n",
      "\n",
      "Often, the post-experiment analysis is done using something called a hypothesis test like *difference of means test* or *difference of proportions test*. This involves often misunderstood quantities like a \"Z-score\" and even more confusing \"p-values\" (please don't ask). If you have taken a statistics course, you have probably been taught this technique (though not necessarily *learned* this technique). And if you were like me, you may have felt uncomfortable with their derivation -- good: the Bayesian approach to this problem is much more natural. \n",
      "\n",
      "### A Simple Case\n",
      "\n",
      "As this is a hacker book, we'll continue with the web-dev example. For the moment, we will focus on the analysis of site A only. Assume that there is some true $0 \\lt p_A \\lt 1$ probability that users who, upon shown site A, eventually purchase from the site. This is the true effectiveness of site A. Currently, this quantity is unknown to us. \n",
      "\n",
      "Suppose site A was shown to $N$ people, and $n$ people purchased from the site. One might conclude hastly that $p_A = \\frac{n}{N}$. Unfortunately, the *observed frequency* $\\frac{n}{N}$ does not necessarily equal $p_A$ -- there is a difference between the *observed frequency* and the *true frequency* of an event. The true frequency can be interpreted as the probability of an event occurring. For example, the true frequency of rolling a 1 on a 6-sided die is $\\frac{1}{6}$. Knowing the true frequency of events like:\n",
      "\n",
      "- fraction of users who make purchases, \n",
      "- frequency of social attributes, \n",
      "- percent of internet users with cats etc. \n",
      "\n",
      "are common requests we ask of Nature. Unfortunately, often Nature hides the true frequency from us and we must *infer* it from observed data.\n",
      "\n",
      "The *observed frequency* is then the frequency we observe: say rolling the die 100 times you may observe 20 rolls of 1. The observed frequency, 0.2, differs from the true frequency, $\\frac{1}{6}$. We can use Bayesian statistics to infer probable values of the true frequency using an appropriate prior and observed data.\n",
      "\n",
      "\n",
      "With respect to our A/B example, we are interested in using what we know, $N$ (the total trials adminsitered) and $n$ (the number of conversions), to estimate what $p_A$, the true frequency of buyers, might be. \n",
      "\n",
      "To setup a Bayesian model, we need to assign prior distrbutions to our unknown quantities. *A priori*, what do we think $p_A$ might be? For this example, we have no strong conviction about $p_A$, so for now, let's assume $p_A$ is uniform over [0,1]:"
     ]
    },
    {
     "cell_type": "code",
     "collapsed": false,
     "input": [
      "import pymc as mc\n",
      "\n",
      "# the parameters are the bounds of the Uniform.\n",
      "p = mc.Uniform('p', lower=0, upper=1)"
     ],
     "language": "python",
     "metadata": {},
     "outputs": [],
     "prompt_number": 77
    },
    {
     "cell_type": "markdown",
     "metadata": {},
     "source": [
      "Had we had stronger beliefs, we could have expressed them in the prior above.\n",
      "\n",
      "For this example, consider $p_A = 0.05$, and $N = 1500$ users shown site A, and we will simulate whether the user made a purchase or not. To simulate this from $N$ trials, we will use a *Bernoulli* distribution: if  $ X\\ \\sim \\text{Ber}(p)$, then $X$ is 1 with probability $p$ and 0 with probability $1-p$. Of course, in practice we do not know $p_A$, but we will use it here to simulate the data."
     ]
    },
    {
     "cell_type": "code",
     "collapsed": false,
     "input": [
      "#set constants\n",
      "p_true = 0.05  # remember, this is unknown.\n",
      "N = 1500\n",
      "\n",
      "# sample N Bernoulli random variables from Ber(0.05).\n",
      "# each random variable has a 0.05 chance of being a 1.\n",
      "# this is the data-generation step\n",
      "occurances = mc.rbernoulli(p_true, N)\n",
      "\n",
      "print occurances  # Remember: Python treats True == 1, and False == 0\n",
      "print occurances.sum()"
     ],
     "language": "python",
     "metadata": {},
     "outputs": [
      {
       "output_type": "stream",
       "stream": "stdout",
       "text": [
        "[False False False ..., False False False]\n",
        "79\n"
       ]
      }
     ],
     "prompt_number": 78
    },
    {
     "cell_type": "markdown",
     "metadata": {},
     "source": [
      "The observed frequency is:"
     ]
    },
    {
     "cell_type": "code",
     "collapsed": false,
     "input": [
      "# Occurances.mean is equal to n/N.\n",
      "print \"What is the observed frequency in Group A? %.4f\" % occurances.mean()\n",
      "print \"Does this equal the true frequency? %s\" % (occurances.mean() == p_true)"
     ],
     "language": "python",
     "metadata": {},
     "outputs": [
      {
       "output_type": "stream",
       "stream": "stdout",
       "text": [
        "What is the observed frequency in Group A? 0.0527\n",
        "Does this equal the true frequency? False\n"
       ]
      }
     ],
     "prompt_number": 79
    },
    {
     "cell_type": "markdown",
     "metadata": {},
     "source": [
      "We combine the observations into the PyMC `observed` variable, and run our inference algorithm:"
     ]
    },
    {
     "cell_type": "code",
     "collapsed": false,
     "input": [
      "#include the observations, which are Bernoulli\n",
      "obs = mc.Bernoulli(\"obs\", p, value=occurances, observed=True)\n",
      "\n",
      "#To be explained in chapter 3\n",
      "mcmc = mc.MCMC([p, obs])\n",
      "mcmc.sample(18000, 1000)"
     ],
     "language": "python",
     "metadata": {},
     "outputs": [
      {
       "output_type": "stream",
       "stream": "stdout",
       "text": [
        " \r",
        "[****************100%******************]  18000 of 18000 complete"
       ]
      },
      {
       "output_type": "stream",
       "stream": "stdout",
       "text": [
        "\n"
       ]
      }
     ],
     "prompt_number": 80
    },
    {
     "cell_type": "markdown",
     "metadata": {},
     "source": [
      "We plot the posterior distribution of the unknown $p_A$ below:"
     ]
    },
    {
     "cell_type": "code",
     "collapsed": false,
     "input": [
      "figsize(12.5, 4)\n",
      "plt.title(\"Posterior distribution of $p_A$, the true effectiveness of site A\")\n",
      "plt.vlines(p_true, 0, 90, linestyle=\"--\", label=\"true $p_A$ (unknown)\")\n",
      "plt.hist(mcmc.trace(\"p\")[:], bins=25, histtype=\"stepfilled\", normed=True)\n",
      "plt.legend()"
     ],
     "language": "python",
     "metadata": {},
     "outputs": [
      {
       "output_type": "pyout",
       "prompt_number": 81,
       "text": [
        "<matplotlib.legend.Legend at 0x58c7a10>"
       ]
      },
      {
       "output_type": "display_data",
       "png": "[encoded data removed]"
      }
     ],
     "prompt_number": 81
    },
    {
     "cell_type": "markdown",
     "metadata": {},
     "source": [
      "Our posterior distribution puts most weight near the true value of $p_A$, but also some weights in the tails. This is a measure of how uncertain we should be, given our observations. Try changing the number of observations, `N`, and observe how the posterior distribution changes.\n",
      "\n",
      "### *A* and *B* Together\n",
      "\n",
      "A similar anaylsis can be done for site B's response data to determine the analgous $p_B$. But what we are really interested in is the *difference* between $p_A$ and $p_B$. Let's infer $p_A$, $p_B$, *and* $\\text{delta} = p_A - p_B$, all at once. We can do this using PyMC's deterministic variables. (We'll assume for this exercise that $p_B = 0.04$, so $\\text{delta} = 0.01$, $N_B = 200$ (signifcantly less than $N_A$) and we will simulate site B's data like we did for site A's data )"
     ]
    },
    {
     "cell_type": "code",
     "collapsed": false,
     "input": [
      "import pymc as mc\n",
      "figsize(12, 4)\n",
      "\n",
      "#these two quantities are unknown to us.\n",
      "true_p_A = 0.05\n",
      "true_p_B = 0.04\n",
      "\n",
      "#notice the unequal sample sizes -- no problem in Bayesian analysis.\n",
      "N_A = 1500\n",
      "N_B = 750\n",
      "\n",
      "#generate some observations\n",
      "observations_A = mc.rbernoulli(true_p_A, N_A)\n",
      "observations_B = mc.rbernoulli(true_p_B, N_B)\n",
      "print \"Obs from Site A: \", observations_A[:30].astype(int), \"...\"\n",
      "print \"Obs from Site B: \", observations_B[:30].astype(int), \"...\""
     ],
     "language": "python",
     "metadata": {},
     "outputs": [
      {
       "output_type": "stream",
       "stream": "stdout",
       "text": [
        "Obs from Site A:  [0 0 0 0 0 0 0 0 0 0 0 0 0 0 0 0 0 1 0 0 0 0 0 0 0 0 0 0 0 0] ...\n",
        "Obs from Site B:  [0 0 0 0 0 0 0 0 0 0 0 0 0 0 0 0 0 0 0 0 0 0 0 0 0 0 0 0 0 0] ...\n"
       ]
      }
     ],
     "prompt_number": 82
    },
    {
     "cell_type": "code",
     "collapsed": false,
     "input": [
      "print observations_A.mean()\n",
      "print observations_B.mean()"
     ],
     "language": "python",
     "metadata": {},
     "outputs": [
      {
       "output_type": "stream",
       "stream": "stdout",
       "text": [
        "0.04\n",
        "0.036\n"
       ]
      }
     ],
     "prompt_number": 83
    },
    {
     "cell_type": "code",
     "collapsed": false,
     "input": [
      "# Set up the pymc model. Again assume Uniform priors for p_A and p_B.\n",
      "\n",
      "p_A = mc.Uniform(\"p_A\", 0, 1)\n",
      "p_B = mc.Uniform(\"p_B\", 0, 1)\n",
      "\n",
      "\n",
      "# Define the deterministic delta function. This is our unknown of interest.\n",
      "@mc.deterministic\n",
      "def delta(p_A=p_A, p_B=p_B):\n",
      "    return p_A - p_B\n",
      "\n",
      "# Set of observations, in this case we have two observation datasets.\n",
      "obs_A = mc.Bernoulli(\"obs_A\", p_A, value=observations_A, observed=True)\n",
      "obs_B = mc.Bernoulli(\"obs_B\", p_B, value=observations_B, observed=True)\n",
      "\n",
      "# To be explained in chapter 3.\n",
      "mcmc = mc.MCMC([p_A, p_B, delta, obs_A, obs_B])\n",
      "mcmc.sample(20000, 1000)"
     ],
     "language": "python",
     "metadata": {},
     "outputs": [
      {
       "output_type": "stream",
       "stream": "stdout",
       "text": [
        " \r",
        "[****************100%******************]  20000 of 20000 complete"
       ]
      },
      {
       "output_type": "stream",
       "stream": "stdout",
       "text": [
        "\n"
       ]
      }
     ],
     "prompt_number": 84
    },
    {
     "cell_type": "markdown",
     "metadata": {},
     "source": [
      "Below we plot the posterior distributions for the three unknowns: "
     ]
    },
    {
     "cell_type": "code",
     "collapsed": false,
     "input": [
      "p_A_samples = mcmc.trace(\"p_A\")[:]\n",
      "p_B_samples = mcmc.trace(\"p_B\")[:]\n",
      "delta_samples = mcmc.trace(\"delta\")[:]"
     ],
     "language": "python",
     "metadata": {},
     "outputs": [],
     "prompt_number": 85
    },
    {
     "cell_type": "code",
     "collapsed": false,
     "input": [
      "figsize(12.5, 10)\n",
      "#histogram of posteriors\n",
      "\n",
      "ax = plt.subplot(311)\n",
      "\n",
      "plt.xlim(0, .1)\n",
      "plt.hist(p_A_samples, histtype='stepfilled', bins=25, alpha=0.85,\n",
      "         label=\"posterior of $p_A$\", color=\"#A60628\", normed=True)\n",
      "plt.vlines(true_p_A, 0, 80, linestyle=\"--\", label=\"true $p_A$ (unknown)\")\n",
      "plt.legend(loc=\"upper right\")\n",
      "plt.title(\"Posterior distributions of $p_A$, $p_B$, and delta unknowns\")\n",
      "\n",
      "ax = plt.subplot(312)\n",
      "\n",
      "plt.xlim(0, .1)\n",
      "plt.hist(p_B_samples, histtype='stepfilled', bins=25, alpha=0.85,\n",
      "         label=\"posterior of $p_B$\", color=\"#467821\", normed=True)\n",
      "plt.vlines(true_p_B, 0, 80, linestyle=\"--\", label=\"true $p_B$ (unknown)\")\n",
      "plt.legend(loc=\"upper right\")\n",
      "\n",
      "ax = plt.subplot(313)\n",
      "plt.hist(delta_samples, histtype='stepfilled', bins=30, alpha=0.85,\n",
      "         label=\"posterior of delta\", color=\"#7A68A6\", normed=True)\n",
      "plt.vlines(true_p_A - true_p_B, 0, 60, linestyle=\"--\",\n",
      "           label=\"true delta (unknown)\")\n",
      "plt.vlines(0, 0, 60, color=\"black\", alpha=0.2)\n",
      "plt.legend(loc=\"upper right\")"
     ],
     "language": "python",
     "metadata": {},
     "outputs": [
      {
       "output_type": "pyout",
       "prompt_number": 86,
       "text": [
        "<matplotlib.legend.Legend at 0x5587f10>"
       ]
      },
      {
       "output_type": "display_data",
       "png": "[encoded data removed]"
      }
     ],
     "prompt_number": 86
    },
    {
     "cell_type": "markdown",
     "metadata": {},
     "source": [
      "Notice that as a result of `N_B < N_A`, i.e. we have less data from site B, our posterior distribution of $p_B$ is fatter, implying we are less certain about the true value of $p_B$ than we are of $p_A$.  \n",
      "\n",
      "With respect to the posterior distribution of $\\text{delta}$, we can see that the majority of the distribution is above $p_B =0$, implying there site A's response is likely better than site B's response. The probability this inference is incorrect is easily computable:"
     ]
    },
    {
     "cell_type": "code",
     "collapsed": false,
     "input": [
      "#count the number of samples less than 0, i.e. the area under the curve\n",
      "# before 0, represent the probability that site A is worse than site B.\n",
      "print \"Probability site A is WORSE than site B: %.3f\" % \\\n",
      "    (delta_samples < 0).mean()\n",
      "\n",
      "print \"Probability site A is BETTER than site B: %.3f\" % \\\n",
      "    (delta_samples > 0).mean()"
     ],
     "language": "python",
     "metadata": {},
     "outputs": [
      {
       "output_type": "stream",
       "stream": "stdout",
       "text": [
        "Probability site A is WORSE than site B: 0.354\n",
        "Probability site A is BETTER than site B: 0.646\n"
       ]
      }
     ],
     "prompt_number": 87
    },
    {
     "cell_type": "markdown",
     "metadata": {},
     "source": [
      "If this probability is too high for comfortable decision-making, we can perform more trials on site B (as site B has less samples to begin with, each additional data point for site B contributes more inferential \"power\" than each additional data point for site A). \n",
      "\n",
      "Try playing with the parameters `true_p_A`, `true_p_B`, `N_A`, and `N_B`, to see what the posterior of $\\text{delta}$ looks like. Notice in all this, the difference in sample sizes between site A and site B was never mentioned: it naturally fits into Bayesian analysis.\n",
      "\n",
      "I hope the readers feel this style of A/B testing is more natural than hypothesis testing, which the latter has probably confused more than helped practitioners. Later in this book, we will see two extensions of this model: the first to help dynamically adjust for bad sites, and the second will improve the speed of this computation by reducing the analysis to a single equation.   "
     ]
    },
    {
     "cell_type": "markdown",
     "metadata": {},
     "source": [
      "## An algorithm for human deceit\n",
      "\n",
      "Social data has an additional layer of interest as people are not always honest with responses, which adds a further complication into inference. For example, simply asking individuals \"Have you ever cheated on a test?\" will surely contain some rate of dishonesty. What you can say for certain is that the true rate is less than your observed rate (assuming individuals lie *only* about *not cheating*; I cannot imagine one who would admit \"Yes\" to cheating when in fact they hadn't cheated). \n",
      "\n",
      "To present an elegant solution to circumventing this dishonesty problem, and to demonstrate Bayesian modeling, we first need to introduce the binomial distribution.\n",
      "\n",
      "### The Binomial Distribution\n",
      "\n",
      "The binomial distribution is one of the most popular distributions, mostly because of its simplicity and usefulness. Unlike the other distributions we have encountered thus far in the book, the binomial distribution has 2 parameters: $N$, a positive integer representing $N$ trials or number of instances of potential events, and $p$, the probability of an event occurring in a single trial. Like the Poisson distribution, it is a discrete distribution, but unlike the Poisson distribution, it only weighs integers from $0$ to $N$. The mass distribution looks like:\n",
      "\n",
      "$$P( X = k ) =  {{N}\\choose{k}}  p^k(1-p)^{N-k}$$\n",
      "\n",
      "If $X$ is a binomial random variable with parameters $p$ and $N$, denoted $X \\sim \\text{Bin}(N,p)$, then $X$ is the number of events that occurred in the $N$ trials (obviously $0 \\le X \\le N$). The larger $p$ is (while still remaining between 0 and 1), the more events are likely to occur. The expected value of a binomial is equal to $Np$. Below we plot the mass probability distribution for varying parameters. \n"
     ]
    },
    {
     "cell_type": "code",
     "collapsed": false,
     "input": [
      "figsize(12.5, 4)\n",
      "\n",
      "import scipy.stats as stats\n",
      "binomial = stats.binom\n",
      "\n",
      "parameters = [(10, .4), (10, .9)]\n",
      "colors = [\"#348ABD\", \"#A60628\"]\n",
      "\n",
      "for i in range(2):\n",
      "    N, p = parameters[i]\n",
      "    _x = np.arange(N + 1)\n",
      "    plt.bar(_x - 0.5, binomial.pmf(_x, N, p), color=colors[i],\n",
      "            edgecolor=colors[i],\n",
      "            alpha=0.6,\n",
      "            label=\"$N$: %d, $p$: %.1f\" % (N, p),\n",
      "            linewidth=3)\n",
      "\n",
      "plt.legend(loc=\"upper left\")\n",
      "plt.xlim(0, 10.5)\n",
      "plt.xlabel(\"$k$\")\n",
      "plt.ylabel(\"$P(X = k)$\")\n",
      "plt.title(\"Probability mass distributions of binomial random variables\")"
     ],
     "language": "python",
     "metadata": {},
     "outputs": [
      {
       "output_type": "pyout",
       "prompt_number": 88,
       "text": [
        "<matplotlib.text.Text at 0x58fbf10>"
       ]
      },
      {
       "output_type": "display_data",
       "png": "[encoded data removed]"
      }
     ],
     "prompt_number": 88
    },
    {
     "cell_type": "markdown",
     "metadata": {},
     "source": [
      "The special case when $N = 1$ corresponds to the Bernoulli distribution. There is another connection between Bernoulli and Binomial random variables. If we have $X_1, X_2, ... , X_N$ Bernoulli random variables with the same $p$, then $Z = X_1 + X_2 + ... + X_N \\sim \\text{Binomial}(N, p )$.\n",
      "\n",
      "The expected value of a Bernoulli random variable is $p$. This can be seen by noting the more general Binomial random variable has expected value $Np$ and setting $N=1$."
     ]
    },
    {
     "cell_type": "markdown",
     "metadata": {},
     "source": [
      "##### Example: Cheating among students\n",
      "\n",
      "We will use the binomial distribution to determine the frequency of students cheating during an exam. If we let $N$ be the total number of students who took the exam, and assuming each student is interviewed post-exam (answering without consequence), we will receive integer $X$ \"Yes I did cheat\" answers. We then find the posterior distribution of $p$, given $N$, some specified prior on $p$, and observed data $X$. \n",
      "\n",
      "This is a completely absurd model. No student, even with a free-pass against punishment, would admit to cheating. What we need is a better *algorithm* to ask students if they had cheated. Ideally the algorithm should encourage individuals to be honest while preserving privacy. The following proposed algorithm is a solution I greatly admire for its ingenuity and effectiveness:\n",
      "\n",
      "> In the interview process for each student, the student flips a coin, hidden from the interviewer. The student agrees to answer honestly if the coin comes up heads. Otherwise, if the coin comes up tails, the student (secretly) flips the coin again, and answers \"Yes, I did cheat\" if the coin flip lands heads, and \"No, I did not cheat\", if the coin flip lands tails. This way, the interviewer does not know if a \"Yes\" was the result of a guilty plea, or a Heads on a second coin toss. Thus privacy is preserved and the researchers receive honest answers. \n",
      "\n",
      "I call this the Privacy Algorithm. One could of course argue that the interviewers are still receiving false data since some *Yes*'s are not confessions but instead randomness, but an alternative perspective is that the researchers are discarding approximately half of their original dataset since half of the responses will be noise. But they have gained a systematic data generation process that can be modeled. Furthermore, they do not have to incorporate (perhaps somewhat naively) the possibility of deceitful answers. We can use PyMC to dig through this noisy model, and find a posterior distribution for the true frequency of liars. "
     ]
    },
    {
     "cell_type": "markdown",
     "metadata": {},
     "source": [
      "Suppose 100 students are being surveyed for cheating, and we wish to find $p$, the proportion of cheaters. There a few ways we can model this in PyMC. I'll demonstrate the most explicit way, and later show a simplified version. Both versions arrive at the same inference. In our data-generation model, we sample $p$, the true proportion of cheaters, from a prior. Since we are quite ignorant about $p$, we will assign it a $\\text{Uniform}(0,1)$ prior."
     ]
    },
    {
     "cell_type": "code",
     "collapsed": false,
     "input": [
      "import pymc as mc\n",
      "\n",
      "\n",
      "N = 100\n",
      "p = mc.Uniform(\"freq_cheating\", 0, 1)"
     ],
     "language": "python",
     "metadata": {},
     "outputs": [],
     "prompt_number": 89
    },
    {
     "cell_type": "markdown",
     "metadata": {},
     "source": [
      "Again, thinking of our data-generation model, we assign Bernoulli random variables to the 100 students: 1 implies they cheated and 0 implies they did not. "
     ]
    },
    {
     "cell_type": "code",
     "collapsed": false,
     "input": [
      "true_answers = mc.Bernoulli(\"truths\", p, size=N)"
     ],
     "language": "python",
     "metadata": {},
     "outputs": [],
     "prompt_number": 90
    },
    {
     "cell_type": "markdown",
     "metadata": {},
     "source": [
      "If we carry out the algorithm, the next step that occurs is the first coin-flip each student makes. This can be modeled again by sampling 100 Bernoulli random variables with $p=1/2$: denote a 1 as a *Heads* and 0 a *Tails*."
     ]
    },
    {
     "cell_type": "code",
     "collapsed": false,
     "input": [
      "first_coin_flips = mc.Bernoulli(\"first_flips\", 0.5, size=N)\n",
      "print first_coin_flips.value"
     ],
     "language": "python",
     "metadata": {},
     "outputs": [
      {
       "output_type": "stream",
       "stream": "stdout",
       "text": [
        "[False  True False  True  True False  True False False False False  True\n",
        " False  True False  True False  True False  True  True  True  True  True\n",
        " False False  True False  True  True  True False  True False False  True\n",
        "  True  True False False  True  True False False  True  True  True  True\n",
        "  True False False  True False  True False False False  True False  True\n",
        "  True False False False  True False  True False False False  True  True\n",
        "  True  True  True  True False False  True  True  True  True  True  True\n",
        " False  True False False False  True False  True  True  True False  True\n",
        "  True False False  True]\n"
       ]
      }
     ],
     "prompt_number": 91
    },
    {
     "cell_type": "markdown",
     "metadata": {},
     "source": [
      "Although *not everyone* flips a second time, we can still model the possible realization of second coin-flips:"
     ]
    },
    {
     "cell_type": "code",
     "collapsed": false,
     "input": [
      "second_coin_flips = mc.Bernoulli(\"second_flips\", 0.5, size=N)"
     ],
     "language": "python",
     "metadata": {},
     "outputs": [],
     "prompt_number": 92
    },
    {
     "cell_type": "markdown",
     "metadata": {},
     "source": [
      "Using these variables, we can return a possible realization of the *observed proportion* of \"Yes\" responses. We do this using a PyMC `deterministic` variable:"
     ]
    },
    {
     "cell_type": "code",
     "collapsed": false,
     "input": [
      "@mc.deterministic\n",
      "def observed_proportion(t_a=true_answers,\n",
      "                        fc=first_coin_flips,\n",
      "                        sc=second_coin_flips):\n",
      "\n",
      "    observed = fc*t_a + (1-fc)*sc\n",
      "    return observed.sum() / float(N)"
     ],
     "language": "python",
     "metadata": {},
     "outputs": [],
     "prompt_number": 93
    },
    {
     "cell_type": "markdown",
     "metadata": {},
     "source": [
      "The line `fc*t_a + (1-fc)*sc` contains the heart of the Privacy algorithm. Elements in this array are 1 *if and only if* i) the first toss is heads and the student cheated or ii) the first toss is tails, and the second is heads, and are 0 else. Finally, the last line sums this vector and divides by `float(N)`, produces a proportion. "
     ]
    },
    {
     "cell_type": "code",
     "collapsed": false,
     "input": [
      "observed_proportion.value"
     ],
     "language": "python",
     "metadata": {},
     "outputs": [
      {
       "output_type": "pyout",
       "prompt_number": 94,
       "text": [
        "0.72999999999999998"
       ]
      }
     ],
     "prompt_number": 94
    },
    {
     "cell_type": "markdown",
     "metadata": {},
     "source": [
      "Next we need a dataset. After performing our coin-flipped interviews the researchers received 35 \"Yes\" responses. To put this into a relative perspective, if there truly were no cheaters, we should expect to see on average 1/4 of all responses being a \"Yes\" (half chance of having first coin land Tails, and another half chance of having second coin land Heads), so about 25 responses in a cheat-free world. On the other hand, if *all students cheated*, we should expected to see on approximately 3/4 of all response be \"Yes\". \n",
      "\n",
      "The researchers observe a Binomial random variable, with `N = 100` and `p = observed_proportion` with `value = 35`:  "
     ]
    },
    {
     "cell_type": "code",
     "collapsed": false,
     "input": [
      "X = 35\n",
      "\n",
      "observations = mc.Binomial(\"obs\", N, observed_proportion, observed=True,\n",
      "                           value=X)"
     ],
     "language": "python",
     "metadata": {},
     "outputs": [],
     "prompt_number": 95
    },
    {
     "cell_type": "markdown",
     "metadata": {},
     "source": [
      "Below we add all the variables of interest to a `Model` container and run our black-box algorithm over the model. "
     ]
    },
    {
     "cell_type": "code",
     "collapsed": false,
     "input": [
      "model = mc.Model([p, true_answers, first_coin_flips,\n",
      "                  second_coin_flips, observed_proportion, observations])\n",
      "\n",
      "### To be explained in Chapter 3!\n",
      "mcmc = mc.MCMC(model)\n",
      "mcmc.sample(120000, 80000, 4)"
     ],
     "language": "python",
     "metadata": {},
     "outputs": [
      {
       "output_type": "stream",
       "stream": "stdout",
       "text": [
        " \r",
        "[****************100%******************]  120000 of 120000 complete"
       ]
      },
      {
       "output_type": "stream",
       "stream": "stdout",
       "text": [
        "\n"
       ]
      }
     ],
     "prompt_number": 96
    },
    {
     "cell_type": "code",
     "collapsed": false,
     "input": [
      "figsize(12.5, 3)\n",
      "p_trace = mcmc.trace(\"freq_cheating\")[:]\n",
      "plt.hist(p_trace, histtype=\"stepfilled\", normed=True,\n",
      "         alpha=0.85, bins=30, label=\"posterior distribution\",\n",
      "         color=\"#348ABD\")\n",
      "plt.vlines([.05, .35], [0, 0], [5, 5], alpha=0.3)\n",
      "plt.xlim(0, 1)\n",
      "plt.legend()"
     ],
     "language": "python",
     "metadata": {},
     "outputs": [
      {
       "output_type": "pyout",
       "prompt_number": 97,
       "text": [
        "<matplotlib.legend.Legend at 0x620af10>"
       ]
      },
      {
       "output_type": "display_data",
       "png": "[encoded data removed]"
      }
     ],
     "prompt_number": 97
    },
    {
     "cell_type": "markdown",
     "metadata": {},
     "source": [
      "With regards to the above plot, we are still pretty uncertain about what the true frequency of cheaters might be, but we have narrowed it down to a range between 0.05 to 0.35 (marked by the solid lines). This is pretty good, as *a priori* we had no idea how many students might have cheated (hence the uniform distribution for our prior). On the other hand, it is also pretty bad since there is a .3 length window the true value most likely lives in. Have we even gained anything, or are we still too uncertain about the true frequency? \n",
      "\n",
      "I would argue, yes, we have discovered something. It is implausible, according to our posterior, that there are *no cheaters*, i.e. the posterior assigns low probability to $p=0$. Since we started with an uniform prior, treating all values of $p$ as equally plausible, but the data ruled out $p=0$ as a possibility, we can be confident that there were cheaters. \n",
      "\n",
      "This kind of algorithm can be used to gather private information from users and be *reasonably* confident that the data, though noisy, is truthful. \n",
      "\n"
     ]
    },
    {
     "cell_type": "markdown",
     "metadata": {},
     "source": [
      "### Alternative PyMC Model\n",
      "\n",
      "Given a value for $p$ (which from our god-like position we know), we can find the probability the student will answer yes: \n",
      "\n",
      "\\begin{align}\n",
      "P(\\text{\"Yes\"}) = & P( \\text{Heads on first coin} )P( \\text{cheater} ) + P( \\text{Tails on first coin} )P( \\text{Heads on second coin} ) \\\\\\\\\n",
      "& = \\frac{1}{2}p + \\frac{1}{2}\\frac{1}{2}\\\\\\\\\n",
      "& = \\frac{p}{2} + \\frac{1}{4}\n",
      "\\end{align}\n",
      "\n",
      "Thus, knowing $p$ we know the probability a student will respond \"Yes\". In PyMC, we can create a deterministic function to evaluate the probability of responding \"Yes\", given $p$:"
     ]
    },
    {
     "cell_type": "code",
     "collapsed": false,
     "input": [
      "p = mc.Uniform(\"freq_cheating\", 0, 1)\n",
      "\n",
      "\n",
      "@mc.deterministic\n",
      "def p_skewed(p=p):\n",
      "    return 0.5*p + 0.25"
     ],
     "language": "python",
     "metadata": {},
     "outputs": [],
     "prompt_number": 98
    },
    {
     "cell_type": "markdown",
     "metadata": {},
     "source": [
      "I could have typed `p_skewed  = 0.5*p + 0.25` instead for a one-liner, as the elementary operations of addition and scalar multiplication will implicitly create a `deterministic` variable, but I wanted to make the deterministic boilerplate explicit for clarity's sake. \n",
      "\n",
      "If we know the probability of respondents saying \"Yes\", which is `p_skewed`, and we have $N=100$ students, the number of \"Yes\" responses is a binomial random variable with parameters `N` and `p_skewed`.\n",
      "\n",
      "This is were we include our observed 35 \"Yes\" responses. In the declaration of the `mc.Binomial`, we include `value = 35` and `observed = True`."
     ]
    },
    {
     "cell_type": "code",
     "collapsed": false,
     "input": [
      "yes_responses = mc.Binomial(\"number_cheaters\", 100, p_skewed,\n",
      "                            value=35, observed=True)"
     ],
     "language": "python",
     "metadata": {},
     "outputs": [],
     "prompt_number": 99
    },
    {
     "cell_type": "markdown",
     "metadata": {},
     "source": [
      "Below we add all the variables of interest to a `Model` container and run our black-box algorithm over the model. "
     ]
    },
    {
     "cell_type": "code",
     "collapsed": false,
     "input": [
      "model = mc.Model([yes_responses, p_skewed, p])\n",
      "\n",
      "### To Be Explained in Chapter 3!\n",
      "mcmc = mc.MCMC(model)\n",
      "mcmc.sample(12500, 2500)"
     ],
     "language": "python",
     "metadata": {},
     "outputs": [
      {
       "output_type": "stream",
       "stream": "stdout",
       "text": [
        " \r",
        "[****************100%******************]  12500 of 12500 complete"
       ]
      },
      {
       "output_type": "stream",
       "stream": "stdout",
       "text": [
        "\n"
       ]
      }
     ],
     "prompt_number": 100
    },
    {
     "cell_type": "code",
     "collapsed": false,
     "input": [
      "figsize(12.5, 3)\n",
      "p_trace = mcmc.trace(\"freq_cheating\")[:]\n",
      "plt.hist(p_trace, histtype=\"stepfilled\", normed=True,\n",
      "         alpha=0.85, bins=30, label=\"posterior distribution\",\n",
      "         color=\"#348ABD\")\n",
      "plt.vlines([.05, .35], [0, 0], [5, 5], alpha=0.2)\n",
      "plt.xlim(0, 1)\n",
      "plt.legend()"
     ],
     "language": "python",
     "metadata": {},
     "outputs": [
      {
       "output_type": "pyout",
       "prompt_number": 101,
       "text": [
        "<matplotlib.legend.Legend at 0x5cc0ed0>"
       ]
      },
      {
       "output_type": "display_data",
       "png": "[encoded data removed]"
      }
     ],
     "prompt_number": 101
    },
    {
     "cell_type": "markdown",
     "metadata": {},
     "source": [
      "### More PyMC Tricks\n",
      "\n",
      "#### Protip: *Lighter* deterministic variables with `Lambda` class\n",
      "\n",
      "Sometimes writing a deterministic function using the `@mc.deterministic` decorator can seem like a chore, especially for a small function. I have already mentioned that elementary math operations *can* produce deterministic variables implicitly, but what about operations like indexing or slicing? Built-in `Lambda` functions can handle this with the elegance and simplicity required. For example,  \n",
      "\n",
      "    beta = mc.Normal( \"coefficients\", 0, size=(N,1) )\n",
      "    x = np.random.randn( (N,1) )\n",
      "    linear_combination = mc.Lambda( lambda x=x, beta = beta: np.dot( x.T, beta ) )\n",
      "\n",
      "\n",
      "#### Protip: Arrays of PyMC variables\n",
      "There is no reason why we cannot store multiple heterogeneous PyMC variables in a Numpy array. Just remember to set the `dtype` of the array to `object` upon initialization. For example:\n",
      "\n",
      "\n"
     ]
    },
    {
     "cell_type": "code",
     "collapsed": false,
     "input": [
      "N = 10\n",
      "x = np.empty(N, dtype=object)\n",
      "for i in range(0, N):\n",
      "        x[i] = mc.Exponential('x_%i' % i, (i+1)**2)"
     ],
     "language": "python",
     "metadata": {},
     "outputs": [],
     "prompt_number": 104
    },
    {
     "cell_type": "markdown",
     "metadata": {},
     "source": [
      "The remainder of this chapter examines some practical examples of PyMC and PyMC modeling:"
     ]
    },
    {
     "cell_type": "markdown",
     "metadata": {},
     "source": [
      "\n",
      "#####Example: Challenger Space Shuttle Disaster <span id=\"challenger\"/>\n",
      "\n",
      "On January 28, 1986, the twenty-fifth flight of the U.S. space shuttle program ended in disaster when one of the rocket boosters of the Shuttle Challenger exploded shortly after lift-off, killing all seven crew members. The presidential commission on the accident concluded that it was caused by the failure of an O-ring in a field joint on the rocket booster, and that this failure was due to a faulty design that made the O-ring unacceptably sensitive to a number of factors including outside temperature. Of the previous 24 flights, data were available on failures of O-rings on 23, (one was lost at sea), and these data were discussed on the evening preceding the Challenger launch, but unfortunately only the data corresponding to the 7 flights on which there was a damage incident were considered important and these were thought to show no obvious trend. The data are shown below (see [1]):\n",
      "\n",
      "\n",
      "\n"
     ]
    },
    {
     "cell_type": "code",
     "collapsed": false,
     "input": [
      "figsize(12.5, 3.5)\n",
      "np.set_printoptions(precision=3, suppress=True)\n",
      "challenger_data = np.genfromtxt(\"data/challenger_data.csv\", skip_header=1,\n",
      "                                usecols=[1, 2], missing_values=\"NA\",\n",
      "                                delimiter=\",\")\n",
      "#drop the NA values\n",
      "challenger_data = challenger_data[~np.isnan(challenger_data[:, 1])]\n",
      "\n",
      "#plot it, as a function of tempature (the first column)\n",
      "print \"Temp (F), O-Ring failure?\"\n",
      "print challenger_data\n",
      "\n",
      "plt.scatter(challenger_data[:, 0], challenger_data[:, 1], s=75, color=\"k\",\n",
      "            alpha=0.5)\n",
      "plt.yticks([0, 1])\n",
      "plt.ylabel(\"Damage Incident?\")\n",
      "plt.xlabel(\"Outside temperature (Fahrenheit)\")\n",
      "plt.title(\"Defects of the Space Shuttle O-Rings vs temperature\")\n"
     ],
     "language": "python",
     "metadata": {},
     "outputs": [
      {
       "output_type": "stream",
       "stream": "stdout",
       "text": [
        "Temp (F), O-Ring failure?\n",
        "[[ 66.   0.]\n",
        " [ 70.   1.]\n",
        " [ 69.   0.]\n",
        " [ 68.   0.]\n",
        " [ 67.   0.]\n",
        " [ 72.   0.]\n",
        " [ 73.   0.]\n",
        " [ 70.   0.]\n",
        " [ 57.   1.]\n",
        " [ 63.   1.]\n",
        " [ 70.   1.]\n",
        " [ 78.   0.]\n",
        " [ 67.   0.]\n",
        " [ 53.   1.]\n",
        " [ 67.   0.]\n",
        " [ 75.   0.]\n",
        " [ 70.   0.]\n",
        " [ 81.   0.]\n",
        " [ 76.   0.]\n",
        " [ 79.   0.]\n",
        " [ 75.   1.]\n",
        " [ 76.   0.]\n",
        " [ 58.   1.]]\n"
       ]
      },
      {
       "output_type": "pyout",
       "prompt_number": 106,
       "text": [
        "<matplotlib.text.Text at 0x5aa1c10>"
       ]
      },
      {
       "output_type": "display_data",
       "png": "[encoded data removed]"
      }
     ],
     "prompt_number": 106
    },
    {
     "cell_type": "markdown",
     "metadata": {},
     "source": [
      "It looks clear that *the probability* of damage incidents occurring increases as the outside temperature decreases. We are interested in modeling the probability here because it does not look like there is a strict cutoff point between temperature and a damage incident occurring. The best we can do is ask \"At temperature $t$, what is the probability of a damage incident?\". The goal of this example is to answer that question.\n",
      "\n",
      "We need a function of temperature, call it $p(t)$, that is bounded between 0 and 1 (so as to model a probability) and changes from 1 to 0 as we increase temperature. There are actually many such functions, but the most popular choice is the *logistic function.*\n",
      "\n",
      "$$p(t) = \\frac{1}{ 1 + e^{ \\;\\beta t } } $$\n",
      "\n",
      "In this model, $\\beta$ is the variable we are uncertain about. Below is the function plotted for $\\beta = 1, 3, -5$."
     ]
    },
    {
     "cell_type": "code",
     "collapsed": false,
     "input": [
      "figsize(12, 3)\n",
      "\n",
      "\n",
      "def logistic(x, beta):\n",
      "    return 1.0 / (1.0 + np.exp(beta * x))\n",
      "\n",
      "x = np.linspace(-4, 4, 100)\n",
      "plt.plot(x, logistic(x, 1), label=r\"$\\beta = 1$\")\n",
      "plt.plot(x, logistic(x, 3), label=r\"$\\beta = 3$\")\n",
      "plt.plot(x, logistic(x, -5), label=r\"$\\beta = -5$\")\n",
      "plt.legend()"
     ],
     "language": "python",
     "metadata": {},
     "outputs": [
      {
       "output_type": "pyout",
       "prompt_number": 107,
       "text": [
        "<matplotlib.legend.Legend at 0x5ad8710>"
       ]
      },
      {
       "output_type": "display_data",
       "png": "[encoded data removed]"
      }
     ],
     "prompt_number": 107
    },
    {
     "cell_type": "markdown",
     "metadata": {},
     "source": [
      "But something is missing. In the plot of the logistic function, the probability changes only near zero, but in our data above the probability changes around 65 to 70. We need to add a *bias* term to our logistic function:\n",
      "\n",
      "$$p(t) = \\frac{1}{ 1 + e^{ \\;\\beta t + \\alpha } } $$\n",
      "\n",
      "Some plots are below, with differing $\\alpha$."
     ]
    },
    {
     "cell_type": "code",
     "collapsed": false,
     "input": [
      "def logistic(x, beta, alpha=0):\n",
      "    return 1.0 / (1.0 + np.exp(np.dot(beta, x) + alpha))\n",
      "\n",
      "x = np.linspace(-4, 4, 100)\n",
      "\n",
      "plt.plot(x, logistic(x, 1), label=r\"$\\beta = 1$\", ls=\"--\", lw=1)\n",
      "plt.plot(x, logistic(x, 3), label=r\"$\\beta = 3$\", ls=\"--\", lw=1)\n",
      "plt.plot(x, logistic(x, -5), label=r\"$\\beta = -5$\", ls=\"--\", lw=1)\n",
      "\n",
      "plt.plot(x, logistic(x, 1, 1), label=r\"$\\beta = 1, \\alpha = 1$\",\n",
      "         color=\"#348ABD\")\n",
      "plt.plot(x, logistic(x, 3, -2), label=r\"$\\beta = 3, \\alpha = -2$\",\n",
      "         color=\"#A60628\")\n",
      "plt.plot(x, logistic(x, -5, 7), label=r\"$\\beta = -5, \\alpha = 7$\",\n",
      "         color=\"#7A68A6\")\n",
      "\n",
      "plt.legend(loc=\"lower left\")"
     ],
     "language": "python",
     "metadata": {},
     "outputs": [
      {
       "output_type": "pyout",
       "prompt_number": 108,
       "text": [
        "<matplotlib.legend.Legend at 0x6a86790>"
       ]
      },
      {
       "output_type": "display_data",
       "png": "[encoded data removed]"
      }
     ],
     "prompt_number": 108
    },
    {
     "cell_type": "markdown",
     "metadata": {},
     "source": [
      "Adding a constant term $\\alpha$ amounts to shifting the curve left or right (hence why it is called a *bias*. )\n",
      "\n",
      "Let's start modeling this in PyMC. The $\\beta, \\alpha$ parameters have no reason to be positive, bounded or relatively large, so they are best modeled by a *Normal random variable*, introduced next."
     ]
    },
    {
     "cell_type": "markdown",
     "metadata": {},
     "source": [
      "### Normal distributions\n",
      "\n",
      "A Normal random variable, denoted $X \\sim N(\\mu, 1/\\tau)$, has a distribution with two parameters: the mean, $\\mu$, and the *precision*, $\\tau$. Those familiar with the Normal distribution already have probably seen $\\sigma^2$ instead of $\\tau$. They are in fact reciprocals of each other. The change was motivated by simpler mathematical analysis and is an artifact of older Bayesian methods. Just remember: The smaller $\\tau$, the larger the spread of the distribution (i.e. we are more uncertain); the larger $\\tau$, the tighter the distribution (i.e. we are more certain). Regardless, $\\tau$ is always positive. \n",
      "\n",
      "The probability density function of a $N( \\mu, 1/\\tau)$ random variable is:\n",
      "\n",
      "$$ f(x | \\mu, \\tau) = \\sqrt{\\frac{\\tau}{2\\pi}} \\exp\\left( -\\frac{\\tau}{2} (x-\\mu)^2 \\right) $$\n",
      "\n",
      "We plot some different density functions below. "
     ]
    },
    {
     "cell_type": "code",
     "collapsed": false,
     "input": [
      "import scipy.stats as stats\n",
      "\n",
      "nor = stats.norm\n",
      "x = np.linspace(-8, 7, 150)\n",
      "mu = (-2, 0, 3)\n",
      "tau = (.7, 1, 2.8)\n",
      "colors = [\"#348ABD\", \"#A60628\", \"#7A68A6\"]\n",
      "parameters = zip(mu, tau, colors)\n",
      "\n",
      "for _mu, _tau, _color in parameters:\n",
      "    plt.plot(x, nor.pdf(x, _mu, scale=1./_tau),\n",
      "             label=\"$\\mu = %d,\\;\\\\tau = %.1f$\" % (_mu, _tau), color=_color)\n",
      "    plt.fill_between(x, nor.pdf(x, _mu, scale=1./_tau), color=_color,\n",
      "                     alpha=.33)\n",
      "\n",
      "plt.legend(loc=\"upper right\")\n",
      "plt.xlabel(\"$x$\")\n",
      "plt.ylabel(\"density function at $x$\")\n",
      "plt.title(\"Probability distribution of three different Normal random \\\n",
      "variables\")"
     ],
     "language": "python",
     "metadata": {},
     "outputs": [
      {
       "output_type": "pyout",
       "prompt_number": 120,
       "text": [
        "<matplotlib.text.Text at 0x84d7b50>"
       ]
      },
      {
       "output_type": "display_data",
       "png": "[encoded data removed]"
      }
     ],
     "prompt_number": 120
    },
    {
     "cell_type": "markdown",
     "metadata": {},
     "source": [
      "A Normal random variable can take on any real value, but the variable is very likely to be relatively close to $\\mu$. In fact, the expected value of a Normal is equal to its $\\mu$ parameter:\n",
      "\n",
      "$$ E[ X | \\mu, \\tau] = \\mu$$\n",
      "\n",
      "and its variance is equal to the inverse of $\\tau$:\n",
      "\n",
      "$$Var( X | \\mu, \\tau ) = \\frac{1}{\\tau}$$\n",
      "\n",
      "\n",
      "\n",
      "Below we continue our modeling of the Challenger space craft:"
     ]
    },
    {
     "cell_type": "code",
     "collapsed": false,
     "input": [
      "import pymc as mc\n",
      "\n",
      "temperature = challenger_data[:, 0]\n",
      "D = challenger_data[:, 1]  # defect or not?\n",
      "\n",
      "#notice the`value` here. We explain why below.\n",
      "beta = mc.Normal(\"beta\", 0, 0.001, value=0)\n",
      "alpha = mc.Normal(\"alpha\", 0, 0.001, value=0)\n",
      "\n",
      "\n",
      "@mc.deterministic\n",
      "def p(t=temperature, alpha=alpha, beta=beta):\n",
      "    return 1.0 / (1. + np.exp(beta*t + alpha))\n"
     ],
     "language": "python",
     "metadata": {},
     "outputs": [],
     "prompt_number": 110
    },
    {
     "cell_type": "markdown",
     "metadata": {},
     "source": [
      "We have our probabilities, but how do we connect them to our observed data? A *Bernoulli* random variable with parameter $p$, denoted $\\text{Ber}(p)$, is a random variable that takes value 1 with probability $p$, and 0 else. Thus, our model can look like:\n",
      "\n",
      "$$ \\text{Defect Incident, $D_i$} \\sim \\text{Ber}( \\;p(t_i)\\; ), \\;\\; i=1..N$$\n",
      "\n",
      "where $p(t)$ is our logistic function and $t_i$ are the temperatures we have observations about. Notice in the above code we had to set the values of `beta` and `alpha` to 0. The reason for this is that if `beta` and `alpha` are very large, they make `p` equal to 1 or 0. Unfortunately, `mc.Bernoulli` does not like probabilities of exactly 0 or 1, though they are mathematically well-defined probabilities. So by setting the coefficient values to `0`, we set the variable `p` to be a reasonable starting value. This has no effect on our results, nor does it mean we are including any additional information in our prior. It is simply a computational caveat in PyMC. "
     ]
    },
    {
     "cell_type": "code",
     "collapsed": false,
     "input": [
      "p.value"
     ],
     "language": "python",
     "metadata": {},
     "outputs": [
      {
       "output_type": "pyout",
       "prompt_number": 111,
       "text": [
        "array([ 0.5,  0.5,  0.5,  0.5,  0.5,  0.5,  0.5,  0.5,  0.5,  0.5,  0.5,\n",
        "        0.5,  0.5,  0.5,  0.5,  0.5,  0.5,  0.5,  0.5,  0.5,  0.5,  0.5,\n",
        "        0.5])"
       ]
      }
     ],
     "prompt_number": 111
    },
    {
     "cell_type": "code",
     "collapsed": false,
     "input": [
      "# connect the probabilities in `p` with our observations through a\n",
      "# Bernoulli random variable.\n",
      "observed = mc.Bernoulli(\"bernoulli_obs\", p, value=D, observed=True)\n",
      "\n",
      "model = mc.Model([observed, beta, alpha])\n",
      "\n",
      "# Mysterious code to be explained in Chapter 3\n",
      "map_ = mc.MAP(model)\n",
      "map_.fit()\n",
      "mcmc = mc.MCMC(model)\n",
      "mcmc.sample(120000, 100000, 2)"
     ],
     "language": "python",
     "metadata": {},
     "outputs": [
      {
       "output_type": "stream",
       "stream": "stdout",
       "text": [
        " \r",
        "[****************100%******************]  120000 of 120000 complete"
       ]
      },
      {
       "output_type": "stream",
       "stream": "stdout",
       "text": [
        "\n"
       ]
      }
     ],
     "prompt_number": 112
    },
    {
     "cell_type": "markdown",
     "metadata": {},
     "source": [
      "We have trained our model on the observed data, now we can sample values from the posterior. Let's look at the posterior distributions for $\\alpha$ and $\\beta$:"
     ]
    },
    {
     "cell_type": "code",
     "collapsed": false,
     "input": [
      "alpha_samples = mcmc.trace('alpha')[:, None]  # best to make them 1d\n",
      "beta_samples = mcmc.trace('beta')[:, None]\n",
      "\n",
      "figsize(12.5, 6)\n",
      "\n",
      "#histogram of the samples:\n",
      "plt.subplot(211)\n",
      "plt.title(r\"Posterior distributions of the variables $\\alpha, \\beta$\")\n",
      "plt.hist(beta_samples, histtype='stepfilled', bins=35, alpha=0.85,\n",
      "         label=r\"posterior of $\\beta$\", color=\"#7A68A6\", normed=True)\n",
      "plt.legend()\n",
      "\n",
      "plt.subplot(212)\n",
      "plt.hist(alpha_samples, histtype='stepfilled', bins=35, alpha=0.85,\n",
      "         label=r\"posterior of $\\alpha$\", color=\"#A60628\", normed=True)\n",
      "plt.legend()\n"
     ],
     "language": "python",
     "metadata": {},
     "outputs": [
      {
       "output_type": "pyout",
       "prompt_number": 113,
       "text": [
        "<matplotlib.legend.Legend at 0x70eced0>"
       ]
      },
      {
       "output_type": "display_data",
       "png": "[encoded data removed]"
      }
     ],
     "prompt_number": 113
    },
    {
     "cell_type": "markdown",
     "metadata": {},
     "source": [
      "All samples of $\\beta$ are greater than 0. If instead the posterior was centered around 0, we may suspect that $\\beta = 0$, implying that temperature has no effect on the probability of defect. \n",
      "\n",
      "Similarly, all $\\alpha$ posterior values are negative and far away from 0, implying that it is correct to believe that $\\alpha$ is significantly less than 0. \n",
      "\n",
      "Regarding the spread of the data, we are very uncertain about what the true parameters might be (though considering the low sample size and the large overlap of defects-to-nondefects this behaviour is perhaps expected).  \n",
      "\n",
      "Next, let's look at the *expected probability* for a specific value of the temperature. That is, we average over all samples from the posterior to get a likely value for $p(t_i)$."
     ]
    },
    {
     "cell_type": "code",
     "collapsed": false,
     "input": [
      "t = np.linspace(temperature.min() - 5, temperature.max()+5, 50)[:, None]\n",
      "p_t = logistic(t.T, beta_samples, alpha_samples)\n",
      "\n",
      "mean_prob_t = p_t.mean(axis=0)"
     ],
     "language": "python",
     "metadata": {},
     "outputs": [],
     "prompt_number": 115
    },
    {
     "cell_type": "code",
     "collapsed": false,
     "input": [
      "figsize(12.5, 4)\n",
      "\n",
      "plt.plot(t, mean_prob_t, lw=3, label=\"average posterior \\nprobability \\\n",
      "of defect\")\n",
      "plt.plot(t, p_t[0, :], ls=\"--\", label=\"realization from posterior\")\n",
      "plt.plot(t, p_t[-2, :], ls=\"--\", label=\"realization from posterior\")\n",
      "plt.scatter(temperature, D, color=\"k\", s=50, alpha=0.5)\n",
      "plt.title(\"Posterior expected value of probability of defect; \\\n",
      "plus realizations\")\n",
      "plt.legend(loc=\"lower left\")\n",
      "plt.ylim(-0.1, 1.1)\n",
      "plt.xlim(t.min(), t.max())\n",
      "plt.ylabel(\"probability\")\n",
      "plt.xlabel(\"temperature\")"
     ],
     "language": "python",
     "metadata": {},
     "outputs": [
      {
       "output_type": "pyout",
       "prompt_number": 119,
       "text": [
        "<matplotlib.text.Text at 0x7957fd0>"
       ]
      },
      {
       "output_type": "display_data",
       "png": "[encoded data removed]"
      }
     ],
     "prompt_number": 119
    },
    {
     "cell_type": "markdown",
     "metadata": {},
     "source": [
      "Above we also plotted two possible realizations of what the actual underlying system might be. Both are equally likely as any other draw. The blue line is what occurs when we average all the 20000 possible dotted lines together.\n",
      "\n",
      "\n",
      "An interesting question to ask is for what temperatures are we most uncertain about the defect-probability? Below we plot the expected value line **and** the associated 95% intervals for each temperature. "
     ]
    },
    {
     "cell_type": "code",
     "collapsed": false,
     "input": [
      "from scipy.stats.mstats import mquantiles\n",
      "\n",
      "# vectorized bottom and top 5% quantiles for \"confidence interval\"\n",
      "qs = mquantiles(p_t, [0.05, 0.95], axis=0)\n",
      "plt.fill_between(t[:, 0], *qs, alpha=0.7,\n",
      "                 color=\"#7A68A6\")\n",
      "\n",
      "plt.plot(t[:, 0], qs[0], label=\"95% CI\", color=\"#7A68A6\", alpha=0.7)\n",
      "\n",
      "plt.plot(t, mean_prob_t, lw=1, ls=\"--\", color=\"k\",\n",
      "         label=\"average posterior \\nprobability of defect\")\n",
      "\n",
      "plt.xlim(t.min(), t.max())\n",
      "plt.ylim(-0.02, 1.02)\n",
      "plt.legend(loc=\"lower left\")\n",
      "plt.scatter(temperature, D, color=\"k\", s=50, alpha=0.5)\n",
      "plt.xlabel(\"temp, $t$\")\n",
      "\n",
      "plt.ylabel(\"probability estimate\")\n",
      "plt.title(\"Posterior probability estimates given temp. $t$\")"
     ],
     "language": "python",
     "metadata": {},
     "outputs": []
    },
    {
     "cell_type": "markdown",
     "metadata": {},
     "source": [
      "The *95% credible interval*, or 95% CI, painted in purple, represents the interval, for each temperature, that contains 95% of the distribution. For example, at 65 degrees, we can be 95% sure that the probability of defect lies between 0.25 and 0.75.\n",
      "\n",
      "More generally, we can see that as the temperature nears 60 degrees, the CI's spread out over [0,1] quickly. As we pass 70 degrees, the CI's tighten again. This can give us insight about how to proceed next: we should probably test more O-rings around 60-65 temperature to get a better estimate of probabilities in that range. Similarly, when reporting to scientists your estimates, you should be very cautious about simply telling them the expected probability, as we can see this does not reflect how *wide* the posterior distribution is."
     ]
    },
    {
     "cell_type": "markdown",
     "metadata": {},
     "source": [
      "### What about the day of the Challenger disaster?\n",
      "\n",
      "On the day of the Challenger disaster, the outside temperature was 31 degrees Fahrenheit. What is the posterior distribution of a defect occurring,  given this temperature? The distribution is plotted below. It looks almost guaranteed that the Challenger was going to be subject to defective O-rings."
     ]
    },
    {
     "cell_type": "code",
     "collapsed": false,
     "input": [
      "figsize(12.5, 2.5)\n",
      "\n",
      "prob_31 = logistic(31, beta_samples, alpha_samples)\n",
      "\n",
      "plt.xlim(0.995, 1)\n",
      "plt.hist(prob_31, bins=1000, normed=True, histtype='stepfilled')\n",
      "plt.title(\"Posterior distribution of probability of defect, given $t = 31$\")\n",
      "plt.xlabel(\"probability of defect occuring in O-ring\")\n"
     ],
     "language": "python",
     "metadata": {},
     "outputs": []
    },
    {
     "cell_type": "markdown",
     "metadata": {},
     "source": [
      "### Is our model appropriate?\n",
      "\n",
      "The skeptical reader will say \"You deliberately chose the logistic function for $p(t)$ and the specific priors. Perhaps other functions or priors will give different results. How do I know I have chosen a good model?\" This is absolutely true. To consider an extreme situation, what if I had chosen the function $p(t) = 1,\\; \\forall t$, which guarantees a defect always occurring: I would have again predicted disaster on January 28th. Yet this is clearly a poorly chosen model. On the other hand, if I did choose the logistic function for $p(t)$, but specified all my priors to be very tight around 0, likely we would have very different posterior distributions. How do we know our model is an expression of the data? This encourages us to measure the model's **goodness of fit**.\n",
      "\n",
      "We can think: *how can we test whether our model is a bad fit?* An idea is to compare observed data (which if we recall is a *fixed* stochastic variable) with artificial dataset which we can simulate. The rationale is that if the simulated dataset does not appear similar, statistically, to the observed dataset, then likely our model is not accurately represented the observed data. \n",
      "\n",
      "Previously in this Chapter, we simulated artificial dataset for the SMS example. To do this, we sampled values from the priors. We saw how varied the resulting datasets looked like, and rarely did they mimic our observed dataset. In the current example,  we should sample from the *posterior* distributions to create *very plausible datasets*. Luckily, our Bayesian framework makes this very easy. We only need to create a new `Stochastic` variable, that is exactly the same as our variable that stored the observations, but minus the observations themselves. If you recall, our `Stochastic` variable that stored our observed data was:\n",
      "\n",
      "    observed = mc.Bernoulli( \"bernoulli_obs\", p, value = D, observed=True)\n",
      "\n",
      "Hence we create:\n",
      "    \n",
      "    simulated_data = mc.Bernoulli(\"simulation_data\", p )\n",
      "\n",
      "Let's simulate 10 000:"
     ]
    },
    {
     "cell_type": "code",
     "collapsed": false,
     "input": [
      "simulated = mc.Bernoulli(\"bernoulli_sim\", p)\n",
      "N = 10000\n",
      "\n",
      "mcmc = mc.MCMC([simulated, alpha, beta, observed])\n",
      "mcmc.sample(N)"
     ],
     "language": "python",
     "metadata": {},
     "outputs": []
    },
    {
     "cell_type": "code",
     "collapsed": false,
     "input": [
      "figsize(12.5, 5)\n",
      "\n",
      "simulations = mcmc.trace(\"bernoulli_sim\")[:]\n",
      "print simulations.shape\n",
      "\n",
      "plt.title(\"Simulated dataset using posterior parameters\")\n",
      "figsize(12.5, 6)\n",
      "for i in range(4):\n",
      "    ax = subplot(4, 1, i+1)\n",
      "    plt.scatter(temperature, simulations[1000*i, :], color=\"k\",\n",
      "                s=50, alpha=0.6)\n"
     ],
     "language": "python",
     "metadata": {},
     "outputs": []
    },
    {
     "cell_type": "markdown",
     "metadata": {},
     "source": [
      "Note that the above plots are different (if you can think of a cleaner way to present this, please send a pull request and answer [here](http://stats.stackexchange.com/questions/53078/how-to-visualize-bayesian-goodness-of-fit-for-logistic-regression)!).\n",
      "\n",
      "We wish to assess how good our model is. \"Good\" is a subjective term of course, so results must be relative to other models. \n",
      "\n",
      "We will be doing this graphically as well, which may seem like an even less objective method. The alternative is to use *Bayesian p-values*. These are still subjective, as the proper cutoff between good and bad is arbitrary. Gelman emphasises that the graphical tests are more illuminating [7] than p-value tests. We agree.\n",
      "\n",
      "The following graphical test is a novel data-viz approach to logistic regression. The plots are called *separation plots*[8]. For a suite of models we wish to compare, each model is plotted on an individual separation plot. I leave most of the technical details about separation plots to the very accessible [original paper](http://mdwardlab.com/sites/default/files/GreenhillWardSacks.pdf), but I'll summarize their use here.\n",
      "\n",
      "For each model, we calculate the proportion of times the posterior simulation proposed a value of 1 for a particular temperature, i.e. compute $P( \\;\\text{Defect} = 1 | t, \\alpha, \\beta )$ by averaging. This gives us the posterior probability of a defect at each data point in our dataset. For example, for the model we used above:"
     ]
    },
    {
     "cell_type": "code",
     "collapsed": false,
     "input": [
      "posterior_probability = simulations.mean(axis=0)\n",
      "print \"posterior prob of defect | realized defect \"\n",
      "for i in range(len(D)):\n",
      "    print \"%.2f                     |   %d\" % (posterior_probability[i], D[i])"
     ],
     "language": "python",
     "metadata": {},
     "outputs": []
    },
    {
     "cell_type": "markdown",
     "metadata": {},
     "source": [
      "Next we sort each column by the posterior probabilities:"
     ]
    },
    {
     "cell_type": "code",
     "collapsed": false,
     "input": [
      "ix = np.argsort(posterior_probability)\n",
      "print \"probb | defect \"\n",
      "for i in range(len(D)):\n",
      "    print \"%.2f  |   %d\" % (posterior_probability[ix[i]], D[ix[i]])"
     ],
     "language": "python",
     "metadata": {},
     "outputs": []
    },
    {
     "cell_type": "markdown",
     "metadata": {},
     "source": [
      "We can present the above data better in a figure: I've wrapped this up into a `separation_plot` function."
     ]
    },
    {
     "cell_type": "code",
     "collapsed": false,
     "input": [
      "from separation_plot import separation_plot\n",
      "\n",
      "\n",
      "figsize(11., 1.5)\n",
      "separation_plot(posterior_probability, D)"
     ],
     "language": "python",
     "metadata": {},
     "outputs": []
    },
    {
     "cell_type": "markdown",
     "metadata": {},
     "source": [
      "The snaking-line is the sorted probabilities, blue bars denote defects, and empty space (or grey bars for the optimistic readers) denote non-defects.  As the probability rises, we see more and more defects occur. On the right hand side, the plot suggests that as the posterior probability is large (line close to 1), then more defects are realized. This is good behaviour. Ideally, all the blue bars *should* be close to the right-hand side, and deviations from this reflect missed predictions. \n",
      "\n",
      "The black vertical line is the expected number of defects we should observe, given this model. This allows the user to see how the total number of events predicted by the model compares to the actual number of events in the data.\n",
      "\n",
      "It is much more informative to compare this to separation plots for other models. Below we compare our model (top) versus three others:\n",
      "\n",
      "1. the perfect model, which predicts the posterior probability to be equal 1 if a defect did occur.\n",
      "2. a completely random model, which predicts random probabilities regardless of temperature.\n",
      "3. a constant model:  where $P(D = 1 \\; | \\; t) = c, \\;\\; \\forall t$. The best choice for $c$ is the observed frequency of defects, in this case 7/23.  \n"
     ]
    },
    {
     "cell_type": "code",
     "collapsed": false,
     "input": [
      "figsize(11., 1.25)\n",
      "\n",
      "# Our temperature-dependent model\n",
      "separation_plot(posterior_probability, D)\n",
      "plt.title(\"Temperature-dependent model\")\n",
      "\n",
      "# Perfect model\n",
      "# i.e. the probability of defect is equal to if a defect occurred or not.\n",
      "p = D\n",
      "separation_plot(p, D)\n",
      "plt.title(\"Perfect model\")\n",
      "\n",
      "# random predictions\n",
      "p = np.random.rand(23)\n",
      "separation_plot(p, D)\n",
      "plt.title(\"Random model\")\n",
      "\n",
      "# constant model\n",
      "constant_prob = 7./23*np.ones(23)\n",
      "separation_plot(constant_prob, D)\n",
      "plt.title(\"Constant-prediction model\")"
     ],
     "language": "python",
     "metadata": {},
     "outputs": []
    },
    {
     "cell_type": "markdown",
     "metadata": {},
     "source": [
      "In the random model, we can see that as the probability increases there is no clustering of defects to the right-hand side. Similarly for the constant model.\n",
      "\n",
      "The perfect model, the probability line is not well shown, as it is stuck to the bottom and top of the figure. Of course the perfect model is only for demonstration, and we cannot infer any scientific inference from it."
     ]
    },
    {
     "cell_type": "markdown",
     "metadata": {},
     "source": [
      "##### Exercises\n",
      "\n",
      "1\\. Try putting in extreme values for our observations in the cheating example. What happens if we observe 25 affirmative responses? 10? 50? "
     ]
    },
    {
     "cell_type": "markdown",
     "metadata": {},
     "source": [
      "2\\. Try plotting $\\alpha$ samples versus $\\beta$ samples.  Why might the resulting plot look like this?"
     ]
    },
    {
     "cell_type": "code",
     "collapsed": false,
     "input": [
      "#type your code here.\n",
      "figsize(12.5, 4)\n",
      "\n",
      "plt.scatter(alpha_samples, beta_samples, alpha=0.1)\n",
      "plt.title(\"Why does the plot look like this?\")\n",
      "plt.xlabel(r\"$\\alpha$\")\n",
      "plt.ylabel(r\"$\\beta$\")"
     ],
     "language": "python",
     "metadata": {},
     "outputs": []
    },
    {
     "cell_type": "markdown",
     "metadata": {},
     "source": [
      "### References\n",
      "\n",
      "-  [1] Dalal, Fowlkes and Hoadley (1989),JASA, 84, 945-957.\n",
      "-  [2] German Rodriguez. Datasets. In WWS509. Retrieved 30/01/2013, from http://data.princeton.edu/wws509/datasets/#smoking.\n",
      "-  [3] McLeish, Don, and Cyntha Struthers. STATISTICS 450/850 Estimation and Hypothesis Testing. Winter 2012. Waterloo, Ontario: 2012. Print.\n",
      "-  [4] Fonnesbeck, Christopher. \"Building Models.\" PyMC-Devs. N.p., n.d. Web. 26 Feb 2013. <http://pymc-devs.github.com/pymc/modelbuilding.html>.\n",
      "- [5] Cronin, Beau. \"Why Probabilistic Programming Matters.\" 24 Mar 2013. Google, Online Posting to Google . Web. 24 Mar. 2013. <https://plus.google.com/u/0/107971134877020469960/posts/KpeRdJKR6Z1>.\n",
      "- [6] S.P. Brooks, E.A. Catchpole, and B.J.T. Morgan. Bayesian animal survival estimation. Statistical Science, 15: 357\u2013376, 2000\n",
      "- [7] Gelman, Andrew. \"Philosophy and the practice of Bayesian statistics.\" British Journal of Mathematical and Statistical Psychology. (2012): n. page. Web. 2 Apr. 2013.\n",
      "- [8] Greenhill, Brian, Michael D. Ward, and Audrey Sacks. \"The Separation Plot: A New Visual Method for Evaluating the Fit of Binary Models.\" American Journal of Political Science. 55.No.4 (2011): n. page. Web. 2 Apr. 2013."
     ]
    },
    {
     "cell_type": "code",
     "collapsed": false,
     "input": [
      "from IPython.core.display import HTML\n",
      "\n",
      "\n",
      "def css_styling():\n",
      "    styles = open(\"../styles/custom.css\", \"r\").read()\n",
      "    return HTML(styles)\n",
      "css_styling()"
     ],
     "language": "python",
     "metadata": {},
     "outputs": [
      {
       "html": [
        "<style>\n",
        "    @font-face {\n",
        "        font-family: \"Computer Modern\";\n",
        "        src: url('http://mirrors.ctan.org/fonts/cm-unicode/fonts/otf/cmunss.otf');\n",
        "    }\n",
        "    div.cell{\n",
        "        width:800px;\n",
        "        margin-left:16% !important;\n",
        "        margin-right:auto;\n",
        "    }\n",
        "    h1 {\n",
        "        font-family: Helvetica, serif;\n",
        "    }\n",
        "    h4{\n",
        "        margin-top:12px;\n",
        "        margin-bottom: 3px;\n",
        "       }\n",
        "    div.text_cell_render{\n",
        "        font-family: Computer Modern, \"Helvetica Neue\", Arial, Helvetica, Geneva, sans-serif;\n",
        "        line-height: 145%;\n",
        "        font-size: 130%;\n",
        "        width:800px;\n",
        "        margin-left:auto;\n",
        "        margin-right:auto;\n",
        "    }\n",
        "    .CodeMirror{\n",
        "            font-family: \"Source Code Pro\", source-code-pro,Consolas, monospace;\n",
        "    }\n",
        "    .prompt{\n",
        "        display: None;\n",
        "    }\n",
        "    .text_cell_render h5 {\n",
        "        font-weight: 300;\n",
        "        font-size: 22pt;\n",
        "        color: #4057A1;\n",
        "        font-style: italic;\n",
        "        margin-bottom: .5em;\n",
        "        margin-top: 0.5em;\n",
        "        display: block;\n",
        "    }\n",
        "    \n",
        "    .warning{\n",
        "        color: rgb( 240, 20, 20 )\n",
        "        }  \n",
        "</style>\n",
        "<script>\n",
        "    MathJax.Hub.Config({\n",
        "                        TeX: {\n",
        "                           extensions: [\"AMSmath.js\"]\n",
        "                           },\n",
        "                tex2jax: {\n",
        "                    inlineMath: [ ['$','$'], [\"\\\\(\",\"\\\\)\"] ],\n",
        "                    displayMath: [ ['$$','$$'], [\"\\\\[\",\"\\\\]\"] ]\n",
        "                },\n",
        "                displayAlign: 'center', // Change this to 'center' to center equations.\n",
        "                \"HTML-CSS\": {\n",
        "                    styles: {'.MathJax_Display': {\"margin\": 4}}\n",
        "                }\n",
        "        });\n",
        "</script>"
       ],
       "output_type": "pyout",
       "prompt_number": 59,
       "text": [
        "<IPython.core.display.HTML at 0x42c0b50>"
       ]
      }
     ],
     "prompt_number": 59
    },
    {
     "cell_type": "code",
     "collapsed": false,
     "input": [],
     "language": "python",
     "metadata": {},
     "outputs": []
    }
   ],
   "metadata": {}
  }
 ]
}
