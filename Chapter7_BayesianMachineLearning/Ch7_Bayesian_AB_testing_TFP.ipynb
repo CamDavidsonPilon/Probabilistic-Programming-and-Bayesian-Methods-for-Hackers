{
 "cells": [
  {
   "cell_type": "code",
   "execution_count": 1,
   "metadata": {},
   "outputs": [],
   "source": [
    "import numpy as np\n",
    "import tensorflow as tf\n",
    "import tensorflow_probability as tfp"
   ]
  },
  {
   "cell_type": "code",
   "execution_count": 2,
   "metadata": {},
   "outputs": [],
   "source": [
    "%matplotlib inline\n",
    "from IPython.core.pylabtools import figsize\n",
    "from matplotlib import pyplot as plt"
   ]
  },
  {
   "cell_type": "markdown",
   "metadata": {},
   "source": [
    "## 7.2 Conversion Testing Recap"
   ]
  },
  {
   "cell_type": "code",
   "execution_count": 3,
   "metadata": {},
   "outputs": [],
   "source": [
    "visitors_to_A = 1300\n",
    "visitors_to_B = 1275\n",
    "\n",
    "conversions_from_A = 120\n",
    "conversions_from_B = 125"
   ]
  },
  {
   "cell_type": "code",
   "execution_count": 4,
   "metadata": {},
   "outputs": [],
   "source": [
    "alpha_prior = 1\n",
    "beta_prior = 1"
   ]
  },
  {
   "cell_type": "code",
   "execution_count": 5,
   "metadata": {},
   "outputs": [],
   "source": [
    "posterior_a = tfp.distributions.Beta(\n",
    "    alpha_prior + conversions_from_A, \n",
    "    beta_prior + visitors_to_A - conversions_from_A)\n",
    "\n",
    "posterior_b = tfp.distributions.Beta(\n",
    "    alpha_prior + conversions_from_B, \n",
    "    beta_prior + visitors_to_B - conversions_from_B)"
   ]
  },
  {
   "cell_type": "code",
   "execution_count": 6,
   "metadata": {},
   "outputs": [],
   "source": [
    "figsize = (12.5, 4)\n",
    "x = np.linspace(0,1,500)"
   ]
  },
  {
   "cell_type": "code",
   "execution_count": 7,
   "metadata": {},
   "outputs": [
    {
     "data": {
      "text/plain": [
       "<matplotlib.legend.Legend at 0x1448a0250>"
      ]
     },
     "execution_count": 7,
     "metadata": {},
     "output_type": "execute_result"
    },
    {
     "data": {
      "image/png": "[encoded data removed]",
      "text/plain": [
       "<Figure size 432x288 with 1 Axes>"
      ]
     },
     "metadata": {
      "needs_background": "light"
     },
     "output_type": "display_data"
    }
   ],
   "source": [
    "plt.plot(x, posterior_a.prob(x), label='posterior of A')\n",
    "plt.plot(x, posterior_b.prob(x), label='posterior of B')\n",
    "plt.xlim(0.01, 0.15)\n",
    "plt.xlabel('value')\n",
    "plt.ylabel('density')\n",
    "plt.title(\"zoomed in posterior distribution of the conversion rates of web pages $A$ and $B$\")\n",
    "plt.legend()"
   ]
  },
  {
   "cell_type": "markdown",
   "metadata": {},
   "source": [
    "## 7.3 Adding a linear loss function"
   ]
  },
  {
   "cell_type": "markdown",
   "metadata": {},
   "source": [
    "### 7.3.1 Expected revenue analysis"
   ]
  },
  {
   "cell_type": "code",
   "execution_count": 8,
   "metadata": {},
   "outputs": [
    {
     "data": {
      "text/plain": [
       "array([0., 1., 0.], dtype=float32)"
      ]
     },
     "execution_count": 8,
     "metadata": {},
     "output_type": "execute_result"
    }
   ],
   "source": [
    "N = 1\n",
    "p = [0.5, 0.2, 0.3]\n",
    "tfp.distributions.Multinomial(N, probs=p).sample().numpy()"
   ]
  },
  {
   "cell_type": "code",
   "execution_count": 9,
   "metadata": {},
   "outputs": [
    {
     "data": {
      "text/plain": [
       "array([6., 1., 3.], dtype=float32)"
      ]
     },
     "execution_count": 9,
     "metadata": {},
     "output_type": "execute_result"
    }
   ],
   "source": [
    "N=10\n",
    "tfp.distributions.Multinomial(N, probs=p).sample().numpy()"
   ]
  },
  {
   "cell_type": "code",
   "execution_count": 10,
   "metadata": {},
   "outputs": [
    {
     "data": {
      "text/plain": [
       "array([0.7016795, 0.2983205], dtype=float32)"
      ]
     },
     "execution_count": 10,
     "metadata": {},
     "output_type": "execute_result"
    }
   ],
   "source": [
    "sample = tfp.distributions.Dirichlet([1,1]).sample().numpy()\n",
    "sample"
   ]
  },
  {
   "cell_type": "code",
   "execution_count": 11,
   "metadata": {},
   "outputs": [
    {
     "data": {
      "text/plain": [
       "1.0"
      ]
     },
     "execution_count": 11,
     "metadata": {},
     "output_type": "execute_result"
    }
   ],
   "source": [
    "sample.sum()"
   ]
  },
  {
   "cell_type": "code",
   "execution_count": 12,
   "metadata": {},
   "outputs": [
    {
     "data": {
      "text/plain": [
       "array([0.43452305, 0.22693825, 0.28736347, 0.05117525], dtype=float32)"
      ]
     },
     "execution_count": 12,
     "metadata": {},
     "output_type": "execute_result"
    }
   ],
   "source": [
    "sample = tfp.distributions.Dirichlet([1,1,1,1]).sample().numpy()\n",
    "sample"
   ]
  },
  {
   "cell_type": "code",
   "execution_count": 13,
   "metadata": {},
   "outputs": [
    {
     "data": {
      "text/plain": [
       "1.0"
      ]
     },
     "execution_count": 13,
     "metadata": {},
     "output_type": "execute_result"
    }
   ],
   "source": [
    "sample.sum()"
   ]
  },
  {
   "cell_type": "code",
   "execution_count": 14,
   "metadata": {},
   "outputs": [],
   "source": [
    "N = 1000\n",
    "N_79 = 10\n",
    "N_49 = 46\n",
    "N_25 = 80\n",
    "N_0 = N - (N_79 + N_49 + N_25)"
   ]
  },
  {
   "cell_type": "code",
   "execution_count": 15,
   "metadata": {},
   "outputs": [],
   "source": [
    "observations = tf.constant([N_79, N_49, N_25, N_0], dtype=float)\n",
    "prior_parameters = tf.constant([1,1,1,1], dtype=float)"
   ]
  },
  {
   "cell_type": "code",
   "execution_count": 16,
   "metadata": {},
   "outputs": [],
   "source": [
    "posterior_samples = tfp.distributions.Dirichlet(observations + prior_parameters).sample(10000).numpy()"
   ]
  },
  {
   "cell_type": "code",
   "execution_count": 17,
   "metadata": {},
   "outputs": [
    {
     "data": {
      "text/plain": [
       "<matplotlib.legend.Legend at 0x144d0dca0>"
      ]
     },
     "execution_count": 17,
     "metadata": {},
     "output_type": "execute_result"
    },
    {
     "data": {
      "image/png": "[encoded data removed]",
      "text/plain": [
       "<Figure size 432x288 with 1 Axes>"
      ]
     },
     "metadata": {
      "needs_background": "light"
     },
     "output_type": "display_data"
    }
   ],
   "source": [
    "for i, label in enumerate(['p_79', 'p_49', 'p_25', 'p_0']):\n",
    "    ax = plt.hist(posterior_samples[:,i], bins=50, label=label, histtype='stepfilled')\n",
    "    \n",
    "plt.xlabel('value')\n",
    "plt.ylabel('density')\n",
    "plt.title('posterior distribution of the probability of selecting different prices')\n",
    "plt.legend()"
   ]
  },
  {
   "cell_type": "code",
   "execution_count": 18,
   "metadata": {},
   "outputs": [],
   "source": [
    "def expected_revenue(p):\n",
    "    return np.dot(p, np.array([79, 49, 25, 0]))"
   ]
  },
  {
   "cell_type": "code",
   "execution_count": 19,
   "metadata": {},
   "outputs": [
    {
     "data": {
      "text/plain": [
       "<matplotlib.legend.Legend at 0x144d7b6a0>"
      ]
     },
     "execution_count": 19,
     "metadata": {},
     "output_type": "execute_result"
    },
    {
     "data": {
      "image/png": "[encoded data removed]",
      "text/plain": [
       "<Figure size 432x288 with 1 Axes>"
      ]
     },
     "metadata": {
      "needs_background": "light"
     },
     "output_type": "display_data"
    }
   ],
   "source": [
    "posterior_expected_revenue = expected_revenue(posterior_samples)\n",
    "plt.hist(posterior_expected_revenue, bins=50, label='expected revenue', histtype='stepfilled')\n",
    "plt.xlabel('value')\n",
    "plt.ylabel('density')\n",
    "plt.title('posterior distribution of the expected revenue')\n",
    "plt.legend()"
   ]
  },
  {
   "cell_type": "markdown",
   "metadata": {},
   "source": [
    "### 7.3.2 Extending to an A/B experiment"
   ]
  },
  {
   "cell_type": "code",
   "execution_count": 20,
   "metadata": {},
   "outputs": [
    {
     "data": {
      "text/plain": [
       "<tf.Tensor: shape=(4,), dtype=float32, numpy=array([ 10.,  46.,  80., 864.], dtype=float32)>"
      ]
     },
     "execution_count": 20,
     "metadata": {},
     "output_type": "execute_result"
    }
   ],
   "source": [
    "N_A = 1000\n",
    "N_A_79 = 10\n",
    "N_A_49 = 46\n",
    "N_A_25 = 80\n",
    "N_A_0 = N_A - (N_A_79 + N_A_49 + N_A_25)\n",
    "observations_A = tf.constant([N_A_79, N_A_49, N_A_25, N_A_0], dtype=float)\n",
    "observations_A"
   ]
  },
  {
   "cell_type": "code",
   "execution_count": 21,
   "metadata": {},
   "outputs": [
    {
     "data": {
      "text/plain": [
       "<tf.Tensor: shape=(4,), dtype=float32, numpy=array([  45.,   84.,  200., 1671.], dtype=float32)>"
      ]
     },
     "execution_count": 21,
     "metadata": {},
     "output_type": "execute_result"
    }
   ],
   "source": [
    "N_B = 2000\n",
    "N_B_79 = 45\n",
    "N_B_49 = 84\n",
    "N_B_25 = 200\n",
    "N_B_0 = N_B - (N_B_79 + N_B_49 + N_B_25)\n",
    "observations_B = tf.constant([N_B_79, N_B_49, N_B_25, N_B_0], dtype=float)\n",
    "observations_B"
   ]
  },
  {
   "cell_type": "code",
   "execution_count": 22,
   "metadata": {},
   "outputs": [
    {
     "data": {
      "text/plain": [
       "<tf.Tensor: shape=(4,), dtype=float32, numpy=array([1., 1., 1., 1.], dtype=float32)>"
      ]
     },
     "execution_count": 22,
     "metadata": {},
     "output_type": "execute_result"
    }
   ],
   "source": [
    "prior_parameters = tf.ones(4)\n",
    "prior_parameters"
   ]
  },
  {
   "cell_type": "code",
   "execution_count": 23,
   "metadata": {},
   "outputs": [],
   "source": [
    "posterior_samples_A = tfp.distributions.Dirichlet(observations_A + prior_parameters).sample(10000).numpy()"
   ]
  },
  {
   "cell_type": "code",
   "execution_count": 24,
   "metadata": {},
   "outputs": [],
   "source": [
    "posterior_samples_B = tfp.distributions.Dirichlet(observations_B + prior_parameters).sample(10000).numpy()"
   ]
  },
  {
   "cell_type": "code",
   "execution_count": 25,
   "metadata": {},
   "outputs": [],
   "source": [
    "posterior_expected_revenue_A = expected_revenue(posterior_samples_A)"
   ]
  },
  {
   "cell_type": "code",
   "execution_count": 26,
   "metadata": {},
   "outputs": [],
   "source": [
    "posterior_expected_revenue_B = expected_revenue(posterior_samples_B)"
   ]
  },
  {
   "cell_type": "code",
   "execution_count": 27,
   "metadata": {},
   "outputs": [
    {
     "data": {
      "text/plain": [
       "<matplotlib.legend.Legend at 0x144d5be80>"
      ]
     },
     "execution_count": 27,
     "metadata": {},
     "output_type": "execute_result"
    },
    {
     "data": {
      "image/png": "[encoded data removed]",
      "text/plain": [
       "<Figure size 432x288 with 1 Axes>"
      ]
     },
     "metadata": {
      "needs_background": "light"
     },
     "output_type": "display_data"
    }
   ],
   "source": [
    "plt.hist(posterior_expected_revenue_A, bins=50, label='expected revenue of A', histtype='stepfilled', alpha=0.8)\n",
    "plt.hist(posterior_expected_revenue_B, bins=50, label='expected revenue of B', histtype='stepfilled', alpha=0.8)\n",
    "plt.xlabel('value')\n",
    "plt.ylabel('density')\n",
    "plt.title('posterior distribution of the expected revenue between pages $A$ and $B$')\n",
    "plt.legend()"
   ]
  },
  {
   "cell_type": "code",
   "execution_count": 28,
   "metadata": {},
   "outputs": [
    {
     "data": {
      "text/plain": [
       "0.9795"
      ]
     },
     "execution_count": 28,
     "metadata": {},
     "output_type": "execute_result"
    }
   ],
   "source": [
    "(posterior_expected_revenue_B > posterior_expected_revenue_A).mean()"
   ]
  },
  {
   "cell_type": "code",
   "execution_count": 29,
   "metadata": {},
   "outputs": [],
   "source": [
    "posterior_diff = posterior_expected_revenue_B - posterior_expected_revenue_A"
   ]
  },
  {
   "cell_type": "code",
   "execution_count": 30,
   "metadata": {},
   "outputs": [
    {
     "data": {
      "text/plain": [
       "<matplotlib.legend.Legend at 0x144e595e0>"
      ]
     },
     "execution_count": 30,
     "metadata": {},
     "output_type": "execute_result"
    },
    {
     "data": {
      "image/png": "[encoded data removed]",
      "text/plain": [
       "<Figure size 432x288 with 1 Axes>"
      ]
     },
     "metadata": {
      "needs_background": "light"
     },
     "output_type": "display_data"
    }
   ],
   "source": [
    "plt.hist(posterior_diff, bins=50, label='difference of revenue between B and A', histtype='stepfilled', alpha=0.8)\n",
    "plt.xlabel('value')\n",
    "plt.ylabel('density')\n",
    "plt.title('posterior distribution of the delta between expected revenue of pages $A$ and $B$')\n",
    "plt.legend()"
   ]
  },
  {
   "cell_type": "markdown",
   "metadata": {},
   "source": [
    "## 7.4 Extending to an A/B experiment"
   ]
  },
  {
   "cell_type": "code",
   "execution_count": 31,
   "metadata": {},
   "outputs": [],
   "source": [
    "N = 250\n",
    "mu_A, std_A = 30, 4 \n",
    "mu_B, std_B = 26, 7"
   ]
  },
  {
   "cell_type": "code",
   "execution_count": 32,
   "metadata": {},
   "outputs": [],
   "source": [
    "durations_A = tfp.distributions.Normal(mu_A, std_A).sample(N)\n",
    "durations_B = tfp.distributions.Normal(mu_B, std_B).sample(N)"
   ]
  },
  {
   "cell_type": "code",
   "execution_count": 33,
   "metadata": {},
   "outputs": [],
   "source": [
    "pooled_mean = tf.math.reduce_mean(tf.stack([durations_A, durations_B]))\n",
    "pooled_std = tf.math.reduce_std(tf.stack([durations_A, durations_B]))\n",
    "tau = 1./tf.math.sqrt(1000.0*pooled_std)"
   ]
  },
  {
   "cell_type": "code",
   "execution_count": 34,
   "metadata": {},
   "outputs": [],
   "source": [
    "def durations(durations_A, durations_B, mu_A, mu_B, std_A, std_B, tau):\n",
    "    pooled_mean = tf.math.reduce_mean(tf.stack([durations_A, durations_B]))\n",
    "    pooled_std = tf.math.reduce_std(tf.stack([durations_A, durations_B]))\n",
    "    tau = 1./tf.math.sqrt(1000.0*pooled_std)\n",
    "\n",
    "    durations_posterior_A = tfp.distributions.JointDistributionNamed(\n",
    "        dict(\n",
    "            x=tfp.distributions.Normal(mu_A, tau, name='mu_A'),\n",
    "            y=tfp.distributions.Uniform(pooled_std/1000.0, 1000.0*pooled_std, name='std_A'),\n",
    "            z=tfp.distributions.Exponential(1/29.0, name='nu-1'),\n",
    "            obs=lambda x, y, z: tfp.distributions.Independent(\n",
    "                tfp.distributions.StudentT(x, 1.0/y**2, z+1,name=\"obs_A\"),\n",
    "                reinterpreted_batch_ndims=0\n",
    "            )\n",
    "        )\n",
    "    )\n",
    "    \n",
    "    durations_posterior_B = tfp.distributions.JointDistributionNamed(\n",
    "        dict(\n",
    "            x=tfp.distributions.Normal(mu_B, tau, name='mu_B'),\n",
    "            y=tfp.distributions.Uniform(pooled_std/1000.0, 1000.0*pooled_std, name='std_B'),\n",
    "            z=tfp.distributions.Exponential(1/29.0, name='nu-1'),\n",
    "            obs=lambda x, y, z: tfp.distributions.Independent(\n",
    "                tfp.distributions.StudentT(x, 1.0/y**2, z+1, name=\"obs_B\"),\n",
    "                reinterpreted_batch_ndims=0\n",
    "            )\n",
    "        )\n",
    "    )\n",
    "    return durations_posterior_A, durations_posterior_B"
   ]
  },
  {
   "cell_type": "code",
   "execution_count": 35,
   "metadata": {},
   "outputs": [],
   "source": [
    "durations_posterior_A, durations_posterior_B = durations(\n",
    "    durations_A, \n",
    "    durations_B, \n",
    "    mu_A,\n",
    "    mu_B,\n",
    "    std_A, \n",
    "    std_B, \n",
    "    tau\n",
    ")"
   ]
  },
  {
   "cell_type": "code",
   "execution_count": 36,
   "metadata": {},
   "outputs": [],
   "source": [
    "def log_prob_fn(model, x, y, z, obs):\n",
    "    return model.log_prob(x=x, y=y, z=z, obs=obs)"
   ]
  },
  {
   "cell_type": "code",
   "execution_count": 37,
   "metadata": {},
   "outputs": [],
   "source": [
    "@tf.function(autograph=False, experimental_compile=True)\n",
    "def make_mcmc(log_prob_fn):\n",
    "    kernel = tfp.mcmc.TransformedTransitionKernel(\n",
    "    inner_kernel=tfp.mcmc.HamiltonianMonteCarlo(\n",
    "      target_log_prob_fn=log_prob_fn,\n",
    "      step_size=0.05,\n",
    "      num_leapfrog_steps=3\n",
    "    ),\n",
    "   bijector=[\n",
    "      tfb.Sigmoid(low=0., high=tf.cast(len(years), dtype=tf.float32)),\n",
    "      tfb.Softplus(),\n",
    "      tfb.Softplus(),\n",
    "  ])"
   ]
  }
 ],
 "metadata": {
  "kernelspec": {
   "display_name": "Python 3",
   "language": "python",
   "name": "python3"
  },
  "language_info": {
   "codemirror_mode": {
    "name": "ipython",
    "version": 3
   },
   "file_extension": ".py",
   "mimetype": "text/x-python",
   "name": "python",
   "nbconvert_exporter": "python",
   "pygments_lexer": "ipython3",
   "version": "3.8.6"
  }
 },
 "nbformat": 4,
 "nbformat_minor": 4
}
