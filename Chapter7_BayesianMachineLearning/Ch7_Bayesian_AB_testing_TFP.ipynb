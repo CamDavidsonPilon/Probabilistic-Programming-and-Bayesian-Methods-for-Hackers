{
 "cells": [
  {
   "cell_type": "code",
   "execution_count": 1,
   "metadata": {},
   "outputs": [],
   "source": [
    "import numpy as np\n",
    "import tensorflow as tf\n",
    "import tensorflow_probability as tfp"
   ]
  },
  {
   "cell_type": "code",
   "execution_count": 2,
   "metadata": {},
   "outputs": [],
   "source": [
    "%matplotlib inline\n",
    "from IPython.core.pylabtools import figsize\n",
    "from matplotlib import pyplot as plt"
   ]
  },
  {
   "cell_type": "markdown",
   "metadata": {},
   "source": [
    "## 7.2 Conversion Testing Recap"
   ]
  },
  {
   "cell_type": "code",
   "execution_count": 3,
   "metadata": {},
   "outputs": [],
   "source": [
    "visitors_to_A = 1300\n",
    "visitors_to_B = 1275\n",
    "\n",
    "conversions_from_A = 120\n",
    "conversions_from_B = 125"
   ]
  },
  {
   "cell_type": "code",
   "execution_count": 4,
   "metadata": {},
   "outputs": [],
   "source": [
    "alpha_prior = 1\n",
    "beta_prior = 1"
   ]
  },
  {
   "cell_type": "code",
   "execution_count": 5,
   "metadata": {},
   "outputs": [],
   "source": [
    "posterior_a = tfp.distributions.Beta(\n",
    "    alpha_prior + conversions_from_A, \n",
    "    beta_prior + visitors_to_A - conversions_from_A)\n",
    "\n",
    "posterior_b = tfp.distributions.Beta(\n",
    "    alpha_prior + conversions_from_B, \n",
    "    beta_prior + visitors_to_B - conversions_from_B)"
   ]
  },
  {
   "cell_type": "code",
   "execution_count": 6,
   "metadata": {},
   "outputs": [],
   "source": [
    "figsize = (12.5, 4)\n",
    "x = np.linspace(0,1,500)"
   ]
  },
  {
   "cell_type": "code",
   "execution_count": 7,
   "metadata": {},
   "outputs": [
    {
     "data": {
      "text/plain": [
       "<matplotlib.legend.Legend at 0x148a6cd60>"
      ]
     },
     "execution_count": 7,
     "metadata": {},
     "output_type": "execute_result"
    },
    {
     "data": {
      "image/png": "[encoded data removed]",
      "text/plain": [
       "<Figure size 432x288 with 1 Axes>"
      ]
     },
     "metadata": {
      "needs_background": "light"
     },
     "output_type": "display_data"
    }
   ],
   "source": [
    "plt.plot(x, posterior_a.prob(x), label='posterior of A')\n",
    "plt.plot(x, posterior_b.prob(x), label='posterior of B')\n",
    "plt.xlim(0.01, 0.15)\n",
    "plt.xlabel('value')\n",
    "plt.ylabel('density')\n",
    "plt.title(\"zoomed in posterior distribution of the conversion rates of web pages $A$ and $B$\")\n",
    "plt.legend()"
   ]
  },
  {
   "cell_type": "markdown",
   "metadata": {},
   "source": [
    "## 7.3 Adding a linear loss function"
   ]
  },
  {
   "cell_type": "markdown",
   "metadata": {},
   "source": [
    "### 7.3.1 Expected revenue analysis"
   ]
  },
  {
   "cell_type": "code",
   "execution_count": 8,
   "metadata": {},
   "outputs": [
    {
     "data": {
      "text/plain": [
       "array([1., 0., 0.], dtype=float32)"
      ]
     },
     "execution_count": 8,
     "metadata": {},
     "output_type": "execute_result"
    }
   ],
   "source": [
    "N = 1\n",
    "p = [0.5, 0.2, 0.3]\n",
    "tfp.distributions.Multinomial(N, probs=p).sample().numpy()"
   ]
  },
  {
   "cell_type": "code",
   "execution_count": 9,
   "metadata": {},
   "outputs": [
    {
     "data": {
      "text/plain": [
       "array([7., 0., 3.], dtype=float32)"
      ]
     },
     "execution_count": 9,
     "metadata": {},
     "output_type": "execute_result"
    }
   ],
   "source": [
    "N=10\n",
    "tfp.distributions.Multinomial(N, probs=p).sample().numpy()"
   ]
  },
  {
   "cell_type": "code",
   "execution_count": 10,
   "metadata": {},
   "outputs": [
    {
     "data": {
      "text/plain": [
       "array([0.20531769, 0.79468226], dtype=float32)"
      ]
     },
     "execution_count": 10,
     "metadata": {},
     "output_type": "execute_result"
    }
   ],
   "source": [
    "sample = tfp.distributions.Dirichlet([1,1]).sample().numpy()\n",
    "sample"
   ]
  },
  {
   "cell_type": "code",
   "execution_count": 11,
   "metadata": {},
   "outputs": [
    {
     "data": {
      "text/plain": [
       "0.99999994"
      ]
     },
     "execution_count": 11,
     "metadata": {},
     "output_type": "execute_result"
    }
   ],
   "source": [
    "sample.sum()"
   ]
  },
  {
   "cell_type": "code",
   "execution_count": 12,
   "metadata": {},
   "outputs": [
    {
     "data": {
      "text/plain": [
       "array([0.32740894, 0.12447099, 0.36726162, 0.18085845], dtype=float32)"
      ]
     },
     "execution_count": 12,
     "metadata": {},
     "output_type": "execute_result"
    }
   ],
   "source": [
    "sample = tfp.distributions.Dirichlet([1,1,1,1]).sample().numpy()\n",
    "sample"
   ]
  },
  {
   "cell_type": "code",
   "execution_count": 13,
   "metadata": {},
   "outputs": [
    {
     "data": {
      "text/plain": [
       "0.99999994"
      ]
     },
     "execution_count": 13,
     "metadata": {},
     "output_type": "execute_result"
    }
   ],
   "source": [
    "sample.sum()"
   ]
  },
  {
   "cell_type": "code",
   "execution_count": 14,
   "metadata": {},
   "outputs": [],
   "source": [
    "N = 1000\n",
    "N_79 = 10\n",
    "N_49 = 46\n",
    "N_25 = 80\n",
    "N_0 = N - (N_79 + N_49 + N_25)"
   ]
  },
  {
   "cell_type": "code",
   "execution_count": 15,
   "metadata": {},
   "outputs": [],
   "source": [
    "observations = tf.constant([N_79, N_49, N_25, N_0], dtype=float)\n",
    "prior_parameters = tf.constant([1,1,1,1], dtype=float)"
   ]
  },
  {
   "cell_type": "code",
   "execution_count": 16,
   "metadata": {},
   "outputs": [],
   "source": [
    "posterior_samples = tfp.distributions.Dirichlet(observations + prior_parameters).sample(10000).numpy()"
   ]
  },
  {
   "cell_type": "code",
   "execution_count": 17,
   "metadata": {},
   "outputs": [
    {
     "data": {
      "text/plain": [
       "<matplotlib.legend.Legend at 0x148e643a0>"
      ]
     },
     "execution_count": 17,
     "metadata": {},
     "output_type": "execute_result"
    },
    {
     "data": {
      "image/png": "[encoded data removed]",
      "text/plain": [
       "<Figure size 432x288 with 1 Axes>"
      ]
     },
     "metadata": {
      "needs_background": "light"
     },
     "output_type": "display_data"
    }
   ],
   "source": [
    "for i, label in enumerate(['p_79', 'p_49', 'p_25', 'p_0']):\n",
    "    ax = plt.hist(posterior_samples[:,i], bins=50, label=label, histtype='stepfilled')\n",
    "    \n",
    "plt.xlabel('value')\n",
    "plt.ylabel('density')\n",
    "plt.title('posterior distribution of the probability of selecting different prices')\n",
    "plt.legend()"
   ]
  },
  {
   "cell_type": "code",
   "execution_count": 18,
   "metadata": {},
   "outputs": [],
   "source": [
    "def expected_revenue(p):\n",
    "    return np.dot(p, np.array([79, 49, 25, 0]))"
   ]
  },
  {
   "cell_type": "code",
   "execution_count": 19,
   "metadata": {
    "scrolled": true
   },
   "outputs": [
    {
     "data": {
      "text/plain": [
       "<matplotlib.legend.Legend at 0x148ec97c0>"
      ]
     },
     "execution_count": 19,
     "metadata": {},
     "output_type": "execute_result"
    },
    {
     "data": {
      "image/png": "[encoded data removed]",
      "text/plain": [
       "<Figure size 432x288 with 1 Axes>"
      ]
     },
     "metadata": {
      "needs_background": "light"
     },
     "output_type": "display_data"
    }
   ],
   "source": [
    "posterior_expected_revenue = expected_revenue(posterior_samples)\n",
    "plt.hist(posterior_expected_revenue, bins=50, label='expected revenue', histtype='stepfilled')\n",
    "plt.xlabel('value')\n",
    "plt.ylabel('density')\n",
    "plt.title('posterior distribution of the expected revenue')\n",
    "plt.legend()"
   ]
  },
  {
   "cell_type": "code",
   "execution_count": 20,
   "metadata": {},
   "outputs": [],
   "source": [
    "from tensorflow_probability.python.math.psd_kernels.polynomial import Polynomial"
   ]
  },
  {
   "cell_type": "code",
   "execution_count": 21,
   "metadata": {},
   "outputs": [],
   "source": [
    "p = Polynomial(slope_variance = tf.constant([2.0,2.0]))"
   ]
  },
  {
   "cell_type": "code",
   "execution_count": 22,
   "metadata": {},
   "outputs": [
    {
     "data": {
      "text/plain": [
       "TensorShape([2])"
      ]
     },
     "execution_count": 22,
     "metadata": {},
     "output_type": "execute_result"
    }
   ],
   "source": [
    "p._batch_shape()"
   ]
  },
  {
   "cell_type": "code",
   "execution_count": 23,
   "metadata": {},
   "outputs": [
    {
     "data": {
      "text/plain": [
       "<tf.Tensor: shape=(2, 2), dtype=float32, numpy=\n",
       "array([[4., 4.],\n",
       "       [4., 4.]], dtype=float32)>"
      ]
     },
     "execution_count": 23,
     "metadata": {},
     "output_type": "execute_result"
    }
   ],
   "source": [
    "p._apply(tf.ones(shape=(2,1), dtype=tf.float32),tf.ones(shape=(2,1), dtype=tf.float32), 1)"
   ]
  },
  {
   "cell_type": "code",
   "execution_count": 24,
   "metadata": {},
   "outputs": [],
   "source": [
    "import functools\n",
    "from tensorflow_probability.python.internal import tensor_util\n",
    "feature_ndims=1\n",
    "volatility = tensor_util.convert_nonref_to_tensor(\n",
    "          1.0, name='volatility', dtype=tf.float32)"
   ]
  },
  {
   "cell_type": "markdown",
   "metadata": {},
   "source": [
    "### 7.3.2 Extending to an A/B experiment"
   ]
  },
  {
   "cell_type": "code",
   "execution_count": 25,
   "metadata": {},
   "outputs": [
    {
     "data": {
      "text/plain": [
       "<tf.Tensor: shape=(4,), dtype=float32, numpy=array([ 10.,  46.,  80., 864.], dtype=float32)>"
      ]
     },
     "execution_count": 25,
     "metadata": {},
     "output_type": "execute_result"
    }
   ],
   "source": [
    "N_A = 1000\n",
    "N_A_79 = 10\n",
    "N_A_49 = 46\n",
    "N_A_25 = 80\n",
    "N_A_0 = N_A - (N_A_79 + N_A_49 + N_A_25)\n",
    "observations_A = tf.constant([N_A_79, N_A_49, N_A_25, N_A_0], dtype=float)\n",
    "observations_A"
   ]
  },
  {
   "cell_type": "code",
   "execution_count": 26,
   "metadata": {},
   "outputs": [
    {
     "data": {
      "text/plain": [
       "<tf.Tensor: shape=(4,), dtype=float32, numpy=array([  45.,   84.,  200., 1671.], dtype=float32)>"
      ]
     },
     "execution_count": 26,
     "metadata": {},
     "output_type": "execute_result"
    }
   ],
   "source": [
    "N_B = 2000\n",
    "N_B_79 = 45\n",
    "N_B_49 = 84\n",
    "N_B_25 = 200\n",
    "N_B_0 = N_B - (N_B_79 + N_B_49 + N_B_25)\n",
    "observations_B = tf.constant([N_B_79, N_B_49, N_B_25, N_B_0], dtype=float)\n",
    "observations_B"
   ]
  },
  {
   "cell_type": "code",
   "execution_count": 27,
   "metadata": {},
   "outputs": [
    {
     "data": {
      "text/plain": [
       "<tf.Tensor: shape=(4,), dtype=float32, numpy=array([1., 1., 1., 1.], dtype=float32)>"
      ]
     },
     "execution_count": 27,
     "metadata": {},
     "output_type": "execute_result"
    }
   ],
   "source": [
    "prior_parameters = tf.ones(4)\n",
    "prior_parameters"
   ]
  },
  {
   "cell_type": "code",
   "execution_count": 28,
   "metadata": {},
   "outputs": [],
   "source": [
    "posterior_samples_A = tfp.distributions.Dirichlet(observations_A + prior_parameters).sample(10000).numpy()"
   ]
  },
  {
   "cell_type": "code",
   "execution_count": 29,
   "metadata": {},
   "outputs": [],
   "source": [
    "posterior_samples_B = tfp.distributions.Dirichlet(observations_B + prior_parameters).sample(10000).numpy()"
   ]
  },
  {
   "cell_type": "code",
   "execution_count": 30,
   "metadata": {},
   "outputs": [],
   "source": [
    "posterior_expected_revenue_A = expected_revenue(posterior_samples_A)"
   ]
  },
  {
   "cell_type": "code",
   "execution_count": 31,
   "metadata": {},
   "outputs": [],
   "source": [
    "posterior_expected_revenue_B = expected_revenue(posterior_samples_B)"
   ]
  },
  {
   "cell_type": "code",
   "execution_count": 32,
   "metadata": {},
   "outputs": [
    {
     "data": {
      "text/plain": [
       "<matplotlib.legend.Legend at 0x148f0aa90>"
      ]
     },
     "execution_count": 32,
     "metadata": {},
     "output_type": "execute_result"
    },
    {
     "data": {
      "image/png": "[encoded data removed]",
      "text/plain": [
       "<Figure size 432x288 with 1 Axes>"
      ]
     },
     "metadata": {
      "needs_background": "light"
     },
     "output_type": "display_data"
    }
   ],
   "source": [
    "plt.hist(posterior_expected_revenue_A, bins=50, label='expected revenue of A', histtype='stepfilled', alpha=0.8)\n",
    "plt.hist(posterior_expected_revenue_B, bins=50, label='expected revenue of B', histtype='stepfilled', alpha=0.8)\n",
    "plt.xlabel('value')\n",
    "plt.ylabel('density')\n",
    "plt.title('posterior distribution of the expected revenue between pages $A$ and $B$')\n",
    "plt.legend()"
   ]
  },
  {
   "cell_type": "code",
   "execution_count": 33,
   "metadata": {},
   "outputs": [
    {
     "data": {
      "text/plain": [
       "0.9807"
      ]
     },
     "execution_count": 33,
     "metadata": {},
     "output_type": "execute_result"
    }
   ],
   "source": [
    "(posterior_expected_revenue_B > posterior_expected_revenue_A).mean()"
   ]
  },
  {
   "cell_type": "code",
   "execution_count": 34,
   "metadata": {},
   "outputs": [],
   "source": [
    "posterior_diff = posterior_expected_revenue_B - posterior_expected_revenue_A"
   ]
  },
  {
   "cell_type": "code",
   "execution_count": 35,
   "metadata": {},
   "outputs": [
    {
     "data": {
      "text/plain": [
       "<matplotlib.legend.Legend at 0x148fa3340>"
      ]
     },
     "execution_count": 35,
     "metadata": {},
     "output_type": "execute_result"
    },
    {
     "data": {
      "image/png": "[encoded data removed]",
      "text/plain": [
       "<Figure size 432x288 with 1 Axes>"
      ]
     },
     "metadata": {
      "needs_background": "light"
     },
     "output_type": "display_data"
    }
   ],
   "source": [
    "plt.hist(posterior_diff, bins=50, label='difference of revenue between B and A', histtype='stepfilled', alpha=0.8)\n",
    "plt.xlabel('value')\n",
    "plt.ylabel('density')\n",
    "plt.title('posterior distribution of the delta between expected revenue of pages $A$ and $B$')\n",
    "plt.legend()"
   ]
  },
  {
   "cell_type": "markdown",
   "metadata": {},
   "source": [
    "## 7.4 Going beyond conversions: t-test"
   ]
  },
  {
   "cell_type": "code",
   "execution_count": 36,
   "metadata": {},
   "outputs": [],
   "source": [
    "N = 250\n",
    "mu_A, std_A = 30, 4 \n",
    "mu_B, std_B = 26, 7"
   ]
  },
  {
   "cell_type": "code",
   "execution_count": 37,
   "metadata": {},
   "outputs": [],
   "source": [
    "durations_A = tfp.distributions.Normal(mu_A, std_A).sample(N)\n",
    "durations_B = tfp.distributions.Normal(mu_B, std_B).sample(N)"
   ]
  },
  {
   "cell_type": "code",
   "execution_count": 38,
   "metadata": {},
   "outputs": [],
   "source": [
    "pooled_mean = tf.math.reduce_mean(tf.stack([durations_A, durations_B]))\n",
    "pooled_std = tf.math.reduce_std(tf.stack([durations_A, durations_B]))\n",
    "tau = 1./tf.math.sqrt(1000.0*pooled_std)"
   ]
  },
  {
   "cell_type": "code",
   "execution_count": 39,
   "metadata": {},
   "outputs": [],
   "source": [
    "def durations(durations_A, durations_B, mu_A, mu_B, std_A, std_B, tau):\n",
    "    pooled_mean = tf.math.reduce_mean(tf.stack([durations_A, durations_B]))\n",
    "    pooled_std = tf.math.reduce_std(tf.stack([durations_A, durations_B]))\n",
    "    tau = tf.math.sqrt(1000.0*pooled_std)\n",
    "\n",
    "    nu_minus_1 = tfp.distributions.TransformedDistribution(\n",
    "        tfp.distributions.Exponential(1/29.0, name='nu_1'),\n",
    "        bijector=tfp.bijectors.Chain([tfp.bijectors.Shift(shift=1.), tfp.bijectors.Invert(tfp.bijectors.Identity())])\n",
    "    )\n",
    "\n",
    "    durations_posterior_A = tfp.distributions.JointDistributionNamed(\n",
    "        dict(\n",
    "            x=tfp.distributions.Normal(pooled_mean, tau, name='mu_A'),\n",
    "            y=tfp.distributions.TransformedDistribution(tfp.distributions.Uniform(pooled_std/1000.0, 1000.0*pooled_std, name='std_A'), bijector=tfp.bijectors.Invert(tfp.bijectors.Square())),\n",
    "            z=nu_minus_1,\n",
    "            obs=lambda x, y, z: tfp.distributions.Independent(\n",
    "                tfp.distributions.StudentT(df=z[..., tf.newaxis], loc=x[..., tf.newaxis], scale=y[..., tf.newaxis], name=\"obs_A\"),\n",
    "                reinterpreted_batch_ndims=1\n",
    "            )\n",
    "        )\n",
    "    )\n",
    "    \n",
    "    durations_posterior_B = tfp.distributions.JointDistributionNamed(\n",
    "        dict(\n",
    "            x=tfp.distributions.Normal(pooled_mean, tau, name='mu_A'),\n",
    "            y=tfp.distributions.TransformedDistribution(tfp.distributions.Uniform(pooled_std/1000.0, 1000.0*pooled_std, name='std_N'), bijector=tfp.bijectors.Invert(tfp.bijectors.Square())),\n",
    "            z=nu_minus_1,\n",
    "            obs=lambda x, y, z: tfp.distributions.Independent(\n",
    "                tfp.distributions.StudentT(df=z[..., tf.newaxis], loc=x[..., tf.newaxis], scale=y[..., tf.newaxis], name=\"obs_B\"),\n",
    "                reinterpreted_batch_ndims=1\n",
    "            )\n",
    "        )\n",
    "    )\n",
    "\n",
    "    return durations_posterior_A, durations_posterior_B"
   ]
  },
  {
   "cell_type": "code",
   "execution_count": 40,
   "metadata": {},
   "outputs": [],
   "source": [
    "durations_dist_A, durations_dist_B = durations(\n",
    "    durations_A, \n",
    "    durations_B, \n",
    "    mu_A,\n",
    "    mu_B,\n",
    "    std_A, \n",
    "    std_B, \n",
    "    tau\n",
    ")"
   ]
  },
  {
   "cell_type": "code",
   "execution_count": 41,
   "metadata": {},
   "outputs": [],
   "source": [
    "def log_prob_fn(model, x, y, z, obs):\n",
    "    return model.log_prob(x=x, y=y, z=z, obs=obs)"
   ]
  },
  {
   "cell_type": "code",
   "execution_count": 42,
   "metadata": {},
   "outputs": [],
   "source": [
    "def get_log_proba_fn_fn(posterior_A, posterior_B):\n",
    "    def get_log_proba_fn(durations_A, durations_B):\n",
    "        return lambda x,y,z,u,v: log_prob_fn(posterior_A, x, y, z, durations_A)+log_prob_fn(posterior_B, u, v, z, durations_B)\n",
    "    return get_log_proba_fn"
   ]
  },
  {
   "cell_type": "code",
   "execution_count": 43,
   "metadata": {},
   "outputs": [],
   "source": [
    "num_results = 25000\n",
    "num_burnin_steps = 10000"
   ]
  },
  {
   "cell_type": "code",
   "execution_count": 44,
   "metadata": {},
   "outputs": [],
   "source": [
    "def get_initial_states():\n",
    "    return [\n",
    "        tf.math.reduce_mean(durations_A) * tf.ones([], dtype=tf.float32, name=\"init_mu_A\"),\n",
    "        tf.math.reduce_std(durations_A) * tf.ones([], dtype=tf.float32, name=\"init_std_A\"),\n",
    "        (tf.math.reduce_mean(tfp.distributions.Exponential(1/29.0).sample(1000)))* tf.ones([], dtype=tf.float32, name=\"init_nu-1\"),\n",
    "        tf.math.reduce_mean(durations_B) * tf.ones([], dtype=tf.float32, name=\"init_mu_B\"),\n",
    "        tf.math.reduce_std(durations_B) * tf.ones([], dtype=tf.float32, name=\"init_std_B\"),\n",
    "    ]"
   ]
  },
  {
   "cell_type": "code",
   "execution_count": 45,
   "metadata": {},
   "outputs": [],
   "source": [
    "@tf.function(autograph=False, experimental_compile=False)\n",
    "def sample():\n",
    "    kernel = tfp.mcmc.HamiltonianMonteCarlo(\n",
    "              target_log_prob_fn=get_log_proba_fn_fn(durations_dist_A, durations_dist_B)(durations_A, durations_B),\n",
    "              step_size=0.3,\n",
    "              num_leapfrog_steps=5\n",
    "    )\n",
    "    return tfp.mcmc.sample_chain(\n",
    "        num_results=num_results,\n",
    "        num_burnin_steps=num_burnin_steps,\n",
    "        current_state=get_initial_states(),\n",
    "        kernel=kernel,\n",
    "    )"
   ]
  },
  {
   "cell_type": "code",
   "execution_count": 46,
   "metadata": {},
   "outputs": [
    {
     "name": "stderr",
     "output_type": "stream",
     "text": [
      "/usr/local/lib/python3.8/site-packages/tensorflow_probability/python/mcmc/sample.py:338: UserWarning: Tracing all kernel results by default is deprecated. Set the `trace_fn` argument to None (the future default value) or an explicit callback that traces the values you are interested in.\n",
      "  warnings.warn('Tracing all kernel results by default is deprecated. Set '\n"
     ]
    }
   ],
   "source": [
    "states, kernel_results = sample()"
   ]
  },
  {
   "cell_type": "code",
   "execution_count": 49,
   "metadata": {},
   "outputs": [
    {
     "data": {
      "text/plain": [
       "<matplotlib.legend.Legend at 0x1499c01c0>"
      ]
     },
     "execution_count": 49,
     "metadata": {},
     "output_type": "execute_result"
    },
    {
     "data": {
      "image/png": "[encoded data removed]",
      "text/plain": [
       "<Figure size 432x288 with 1 Axes>"
      ]
     },
     "metadata": {
      "needs_background": "light"
     },
     "output_type": "display_data"
    }
   ],
   "source": [
    "plt.hist(states[0].numpy(), bins=20, label='A', histtype='stepfilled', alpha=0.8)\n",
    "plt.hist(states[3].numpy(), bins=20, label='B', histtype='stepfilled', alpha=0.8)\n",
    "plt.xlabel('value')\n",
    "plt.ylabel('density')\n",
    "plt.title('posterior distribution of $\\mu$')\n",
    "plt.legend()"
   ]
  },
  {
   "cell_type": "code",
   "execution_count": 50,
   "metadata": {},
   "outputs": [
    {
     "data": {
      "text/plain": [
       "<matplotlib.legend.Legend at 0x149a1b910>"
      ]
     },
     "execution_count": 50,
     "metadata": {},
     "output_type": "execute_result"
    },
    {
     "data": {
      "image/png": "[encoded data removed]",
      "text/plain": [
       "<Figure size 432x288 with 1 Axes>"
      ]
     },
     "metadata": {
      "needs_background": "light"
     },
     "output_type": "display_data"
    }
   ],
   "source": [
    "plt.hist(states[1].numpy(), bins=20, label='A', histtype='stepfilled', alpha=0.8)\n",
    "plt.hist(states[4].numpy(), bins=20, label='B', histtype='stepfilled', alpha=0.8)\n",
    "plt.xlabel('value')\n",
    "plt.ylabel('density')\n",
    "plt.title('posterior distribution of $\\sigma$')\n",
    "plt.legend()"
   ]
  },
  {
   "cell_type": "code",
   "execution_count": 51,
   "metadata": {},
   "outputs": [
    {
     "name": "stderr",
     "output_type": "stream",
     "text": [
      "No handles with labels found to put in legend.\n"
     ]
    },
    {
     "data": {
      "text/plain": [
       "<matplotlib.legend.Legend at 0x149ac28b0>"
      ]
     },
     "execution_count": 51,
     "metadata": {},
     "output_type": "execute_result"
    },
    {
     "data": {
      "image/png": "[encoded data removed]",
      "text/plain": [
       "<Figure size 432x288 with 1 Axes>"
      ]
     },
     "metadata": {
      "needs_background": "light"
     },
     "output_type": "display_data"
    }
   ],
   "source": [
    "plt.hist(states[2].numpy(), bins=20, histtype='stepfilled', alpha=0.8)\n",
    "plt.xlabel('value')\n",
    "plt.ylabel('density')\n",
    "plt.title('posterior distribution of $v$')\n",
    "plt.legend()"
   ]
  },
  {
   "cell_type": "markdown",
   "metadata": {},
   "source": [
    "## 7.5 Estimating the increase"
   ]
  },
  {
   "cell_type": "code",
   "execution_count": 52,
   "metadata": {},
   "outputs": [],
   "source": [
    "visitors_to_A = 1275\n",
    "visitors_to_B = 1300"
   ]
  },
  {
   "cell_type": "code",
   "execution_count": 55,
   "metadata": {},
   "outputs": [],
   "source": [
    "conversions_from_A = 22\n",
    "conversions_from_B = 12"
   ]
  },
  {
   "cell_type": "code",
   "execution_count": 54,
   "metadata": {},
   "outputs": [],
   "source": [
    "alpha_prior = 1\n",
    "beta_prior = 1"
   ]
  },
  {
   "cell_type": "code",
   "execution_count": 56,
   "metadata": {},
   "outputs": [],
   "source": [
    "posterior_A = tfp.distributions.Beta(\n",
    "    alpha_prior + conversions_from_A,\n",
    "    beta_prior + visitors_to_A - conversions_from_A\n",
    ")\n",
    "\n",
    "posterior_B = tfp.distributions.Beta(\n",
    "    alpha_prior + conversions_from_B,\n",
    "    beta_prior + visitors_to_B - conversions_from_B\n",
    ")"
   ]
  },
  {
   "cell_type": "code",
   "execution_count": 62,
   "metadata": {},
   "outputs": [],
   "source": [
    "samples = 20000"
   ]
  },
  {
   "cell_type": "code",
   "execution_count": 63,
   "metadata": {},
   "outputs": [],
   "source": [
    "samples_posterior_A = posterior_A.sample(samples)\n",
    "samples_posterior_B = posterior_B.sample(samples)"
   ]
  },
  {
   "cell_type": "code",
   "execution_count": 74,
   "metadata": {},
   "outputs": [
    {
     "data": {
      "text/plain": [
       "<matplotlib.legend.Legend at 0x154691820>"
      ]
     },
     "execution_count": 74,
     "metadata": {},
     "output_type": "execute_result"
    },
    {
     "data": {
      "image/png": "[encoded data removed]",
      "text/plain": [
       "<Figure size 432x288 with 1 Axes>"
      ]
     },
     "metadata": {
      "needs_background": "light"
     },
     "output_type": "display_data"
    }
   ],
   "source": [
    "plt.hist(samples_posterior_A.numpy(), bins=30, label='A', histtype='stepfilled', alpha=0.8)\n",
    "plt.hist(samples_posterior_B.numpy(), bins=30, label='B', histtype='stepfilled', alpha=0.8)\n",
    "plt.xlabel('value')\n",
    "plt.ylabel('density')\n",
    "plt.title('Posterior distributions of the conversation rates of Web pages $A$ and $B$')\n",
    "plt.legend()"
   ]
  },
  {
   "cell_type": "code",
   "execution_count": 66,
   "metadata": {},
   "outputs": [],
   "source": [
    "def relative_increase(a, b):\n",
    "    return (a-b)/b"
   ]
  },
  {
   "cell_type": "code",
   "execution_count": 67,
   "metadata": {},
   "outputs": [],
   "source": [
    "posterior_rel_increase = relative_increase(samples_posterior_A.numpy(), samples_posterior_B.numpy())"
   ]
  },
  {
   "cell_type": "code",
   "execution_count": 75,
   "metadata": {},
   "outputs": [
    {
     "name": "stderr",
     "output_type": "stream",
     "text": [
      "No handles with labels found to put in legend.\n"
     ]
    },
    {
     "data": {
      "text/plain": [
       "<matplotlib.legend.Legend at 0x153a929a0>"
      ]
     },
     "execution_count": 75,
     "metadata": {},
     "output_type": "execute_result"
    },
    {
     "data": {
      "image/png": "[encoded data removed]",
      "text/plain": [
       "<Figure size 432x288 with 1 Axes>"
      ]
     },
     "metadata": {
      "needs_background": "light"
     },
     "output_type": "display_data"
    }
   ],
   "source": [
    "plt.hist(posterior_rel_increase, bins=30, histtype='stepfilled', alpha=0.8)\n",
    "plt.xlabel('value')\n",
    "plt.ylabel('density')\n",
    "plt.title(\n",
    "    'Posterior distribution of the relative lift of Web page $A$`s conversion rate over Web page $B$`s conversion page.'\n",
    ")\n",
    "plt.legend()"
   ]
  },
  {
   "cell_type": "code",
   "execution_count": 77,
   "metadata": {},
   "outputs": [
    {
     "name": "stdout",
     "output_type": "stream",
     "text": [
      "0.89215\n",
      "0.71965\n"
     ]
    }
   ],
   "source": [
    "print((posterior_rel_increase > 0.2).mean())\n",
    "print((posterior_rel_increase > 0.5).mean())"
   ]
  },
  {
   "cell_type": "code",
   "execution_count": 85,
   "metadata": {},
   "outputs": [
    {
     "data": {
      "text/plain": [
       "<matplotlib.legend.Legend at 0x153761850>"
      ]
     },
     "execution_count": 85,
     "metadata": {},
     "output_type": "execute_result"
    },
    {
     "data": {
      "image/png": "[encoded data removed]",
      "text/plain": [
       "<Figure size 432x288 with 1 Axes>"
      ]
     },
     "metadata": {
      "needs_background": "light"
     },
     "output_type": "display_data"
    }
   ],
   "source": [
    "mean = posterior_rel_increase.mean()\n",
    "median = np.quantile(posterior_rel_increase, 0.50)\n",
    "convervative_percentile = np.quantile(posterior_rel_increase, 0.30)\n",
    "\n",
    "plt.vlines(mean, 0, 6000, linestyles='-.', label='mean', color='#000')\n",
    "plt.vlines(median, 0, 6000, linestyles=':', label='median', color='#000')\n",
    "plt.vlines(convervative_percentile, 0, 6000, linestyles='--', label='30th percentile', color='#000')\n",
    "\n",
    "plt.hist(posterior_rel_increase, bins=30, histtype='stepfilled', alpha=0.8)\n",
    "plt.xlabel('value')\n",
    "plt.ylabel('density')\n",
    "plt.legend()"
   ]
  }
 ],
 "metadata": {
  "kernelspec": {
   "display_name": "Python 3",
   "language": "python",
   "name": "python3"
  },
  "language_info": {
   "codemirror_mode": {
    "name": "ipython",
    "version": 3
   },
   "file_extension": ".py",
   "mimetype": "text/x-python",
   "name": "python",
   "nbconvert_exporter": "python",
   "pygments_lexer": "ipython3",
   "version": "3.8.6"
  }
 },
 "nbformat": 4,
 "nbformat_minor": 4
}
